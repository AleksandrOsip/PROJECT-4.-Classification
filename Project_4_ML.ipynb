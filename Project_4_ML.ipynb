{
 "cells": [
  {
   "cell_type": "markdown",
   "id": "c353de9a",
   "metadata": {},
   "source": [
    "# Проект: классификация"
   ]
  },
  {
   "cell_type": "code",
   "execution_count": 1,
   "id": "4a6e54dc",
   "metadata": {},
   "outputs": [],
   "source": [
    "import pandas as pd\n",
    "import numpy as np\n",
    "import matplotlib.pyplot as plt\n",
    "import seaborn as sns\n",
    "from  sklearn.ensemble import IsolationForest\n",
    "import warnings\n",
    "warnings.filterwarnings('ignore')\n",
    "from sklearn.preprocessing  import LabelEncoder\n",
    "from sklearn import linear_model \n",
    "from sklearn import tree \n",
    "from sklearn import ensemble \n",
    "from sklearn import metrics \n",
    "from sklearn import preprocessing \n",
    "from sklearn.model_selection import train_test_split, GridSearchCV, cross_val_score\n",
    "from sklearn.feature_selection import SelectKBest, f_classif\n",
    "import optuna"
   ]
  },
  {
   "cell_type": "markdown",
   "id": "71559b60",
   "metadata": {},
   "source": [
    "## Часть 1. Знакомство с данными, обработка пропусков и выбросов"
   ]
  },
  {
   "cell_type": "markdown",
   "id": "7c5e31b2",
   "metadata": {},
   "source": [
    "Посмотрим на данные."
   ]
  },
  {
   "cell_type": "code",
   "execution_count": 2,
   "id": "20730cd7",
   "metadata": {},
   "outputs": [
    {
     "data": {
      "text/html": [
       "<div>\n",
       "<style scoped>\n",
       "    .dataframe tbody tr th:only-of-type {\n",
       "        vertical-align: middle;\n",
       "    }\n",
       "\n",
       "    .dataframe tbody tr th {\n",
       "        vertical-align: top;\n",
       "    }\n",
       "\n",
       "    .dataframe thead th {\n",
       "        text-align: right;\n",
       "    }\n",
       "</style>\n",
       "<table border=\"1\" class=\"dataframe\">\n",
       "  <thead>\n",
       "    <tr style=\"text-align: right;\">\n",
       "      <th></th>\n",
       "      <th>age</th>\n",
       "      <th>job</th>\n",
       "      <th>marital</th>\n",
       "      <th>education</th>\n",
       "      <th>default</th>\n",
       "      <th>balance</th>\n",
       "      <th>housing</th>\n",
       "      <th>loan</th>\n",
       "      <th>contact</th>\n",
       "      <th>day</th>\n",
       "      <th>month</th>\n",
       "      <th>duration</th>\n",
       "      <th>campaign</th>\n",
       "      <th>pdays</th>\n",
       "      <th>previous</th>\n",
       "      <th>poutcome</th>\n",
       "      <th>deposit</th>\n",
       "    </tr>\n",
       "  </thead>\n",
       "  <tbody>\n",
       "    <tr>\n",
       "      <th>0</th>\n",
       "      <td>59</td>\n",
       "      <td>admin.</td>\n",
       "      <td>married</td>\n",
       "      <td>secondary</td>\n",
       "      <td>no</td>\n",
       "      <td>2 343,00 $</td>\n",
       "      <td>yes</td>\n",
       "      <td>no</td>\n",
       "      <td>unknown</td>\n",
       "      <td>5</td>\n",
       "      <td>may</td>\n",
       "      <td>1042</td>\n",
       "      <td>1</td>\n",
       "      <td>-1</td>\n",
       "      <td>0</td>\n",
       "      <td>unknown</td>\n",
       "      <td>yes</td>\n",
       "    </tr>\n",
       "    <tr>\n",
       "      <th>1</th>\n",
       "      <td>56</td>\n",
       "      <td>admin.</td>\n",
       "      <td>married</td>\n",
       "      <td>secondary</td>\n",
       "      <td>no</td>\n",
       "      <td>45,00 $</td>\n",
       "      <td>no</td>\n",
       "      <td>no</td>\n",
       "      <td>unknown</td>\n",
       "      <td>5</td>\n",
       "      <td>may</td>\n",
       "      <td>1467</td>\n",
       "      <td>1</td>\n",
       "      <td>-1</td>\n",
       "      <td>0</td>\n",
       "      <td>unknown</td>\n",
       "      <td>yes</td>\n",
       "    </tr>\n",
       "    <tr>\n",
       "      <th>2</th>\n",
       "      <td>41</td>\n",
       "      <td>technician</td>\n",
       "      <td>married</td>\n",
       "      <td>secondary</td>\n",
       "      <td>no</td>\n",
       "      <td>1 270,00 $</td>\n",
       "      <td>yes</td>\n",
       "      <td>no</td>\n",
       "      <td>unknown</td>\n",
       "      <td>5</td>\n",
       "      <td>may</td>\n",
       "      <td>1389</td>\n",
       "      <td>1</td>\n",
       "      <td>-1</td>\n",
       "      <td>0</td>\n",
       "      <td>unknown</td>\n",
       "      <td>yes</td>\n",
       "    </tr>\n",
       "    <tr>\n",
       "      <th>3</th>\n",
       "      <td>55</td>\n",
       "      <td>services</td>\n",
       "      <td>married</td>\n",
       "      <td>secondary</td>\n",
       "      <td>no</td>\n",
       "      <td>2 476,00 $</td>\n",
       "      <td>yes</td>\n",
       "      <td>no</td>\n",
       "      <td>unknown</td>\n",
       "      <td>5</td>\n",
       "      <td>may</td>\n",
       "      <td>579</td>\n",
       "      <td>1</td>\n",
       "      <td>-1</td>\n",
       "      <td>0</td>\n",
       "      <td>unknown</td>\n",
       "      <td>yes</td>\n",
       "    </tr>\n",
       "    <tr>\n",
       "      <th>4</th>\n",
       "      <td>54</td>\n",
       "      <td>admin.</td>\n",
       "      <td>married</td>\n",
       "      <td>tertiary</td>\n",
       "      <td>no</td>\n",
       "      <td>184,00 $</td>\n",
       "      <td>no</td>\n",
       "      <td>no</td>\n",
       "      <td>unknown</td>\n",
       "      <td>5</td>\n",
       "      <td>may</td>\n",
       "      <td>673</td>\n",
       "      <td>2</td>\n",
       "      <td>-1</td>\n",
       "      <td>0</td>\n",
       "      <td>unknown</td>\n",
       "      <td>yes</td>\n",
       "    </tr>\n",
       "  </tbody>\n",
       "</table>\n",
       "</div>"
      ],
      "text/plain": [
       "   age         job  marital  education default       balance housing loan  \\\n",
       "0   59      admin.  married  secondary      no   2 343,00 $      yes   no   \n",
       "1   56      admin.  married  secondary      no      45,00 $       no   no   \n",
       "2   41  technician  married  secondary      no   1 270,00 $      yes   no   \n",
       "3   55    services  married  secondary      no   2 476,00 $      yes   no   \n",
       "4   54      admin.  married   tertiary      no     184,00 $       no   no   \n",
       "\n",
       "   contact  day month  duration  campaign  pdays  previous poutcome deposit  \n",
       "0  unknown    5   may      1042         1     -1         0  unknown     yes  \n",
       "1  unknown    5   may      1467         1     -1         0  unknown     yes  \n",
       "2  unknown    5   may      1389         1     -1         0  unknown     yes  \n",
       "3  unknown    5   may       579         1     -1         0  unknown     yes  \n",
       "4  unknown    5   may       673         2     -1         0  unknown     yes  "
      ]
     },
     "execution_count": 2,
     "metadata": {},
     "output_type": "execute_result"
    }
   ],
   "source": [
    "data = pd.read_csv(r'C:\\Users\\User\\SkillFactory\\data\\bank_fin.zip', sep = ';')\n",
    "data.head()"
   ]
  },
  {
   "cell_type": "markdown",
   "id": "adecdbfb",
   "metadata": {},
   "source": [
    "Данные о клиентах банка:\n",
    "\n",
    "* age (возраст);\n",
    "* job (сфера занятости);\n",
    "* marital (семейное положение);\n",
    "* education (уровень образования);\n",
    "* default (имеется ли просроченный кредит);\n",
    "* housing (имеется ли кредит на жильё);\n",
    "* loan (имеется ли кредит на личные нужды);\n",
    "* balance (баланс).\n",
    "\n",
    "Данные, связанные с последним контактом в контексте текущей маркетинговой кампании:\n",
    "\n",
    "* contact (тип контакта с клиентом);\n",
    "* month (месяц, в котором был последний контакт);\n",
    "* day (день, в который был последний контакт);\n",
    "* duration (продолжительность контакта в секундах).\n",
    "\n",
    "Прочие признаки:\n",
    "\n",
    "* campaign (количество контактов с этим клиентом в течение текущей кампании);\n",
    "* pdays (количество пропущенных дней с момента последней маркетинговой кампании до контакта в текущей кампании);\n",
    "* previous (количество контактов до текущей кампании)\n",
    "* poutcome (результат прошлой маркетинговой кампании).\n",
    "\n",
    "**Целевая переменная *deposit***, которая определяет, согласится ли клиент открыть депозит в банке. Именно её мы будем пытаться предсказать в данном кейсе."
   ]
  },
  {
   "cell_type": "code",
   "execution_count": 3,
   "id": "ba11dc67",
   "metadata": {},
   "outputs": [
    {
     "name": "stdout",
     "output_type": "stream",
     "text": [
      "<class 'pandas.core.frame.DataFrame'>\n",
      "RangeIndex: 11162 entries, 0 to 11161\n",
      "Data columns (total 17 columns):\n",
      " #   Column     Non-Null Count  Dtype \n",
      "---  ------     --------------  ----- \n",
      " 0   age        11162 non-null  int64 \n",
      " 1   job        11162 non-null  object\n",
      " 2   marital    11162 non-null  object\n",
      " 3   education  11162 non-null  object\n",
      " 4   default    11162 non-null  object\n",
      " 5   balance    11137 non-null  object\n",
      " 6   housing    11162 non-null  object\n",
      " 7   loan       11162 non-null  object\n",
      " 8   contact    11162 non-null  object\n",
      " 9   day        11162 non-null  int64 \n",
      " 10  month      11162 non-null  object\n",
      " 11  duration   11162 non-null  int64 \n",
      " 12  campaign   11162 non-null  int64 \n",
      " 13  pdays      11162 non-null  int64 \n",
      " 14  previous   11162 non-null  int64 \n",
      " 15  poutcome   11162 non-null  object\n",
      " 16  deposit    11162 non-null  object\n",
      "dtypes: int64(6), object(11)\n",
      "memory usage: 1.4+ MB\n"
     ]
    }
   ],
   "source": [
    "# Исследуем данные на предмет пропусков. Где есть пропущенные значения? Сколько их?\n",
    "data.info()"
   ]
  },
  {
   "cell_type": "code",
   "execution_count": 4,
   "id": "6fdfc4b4",
   "metadata": {},
   "outputs": [
    {
     "name": "stdout",
     "output_type": "stream",
     "text": [
      "Пропусков в признаке balance: 25\n"
     ]
    }
   ],
   "source": [
    "print('Пропусков в признаке balance:', data['balance'].isnull().sum()) # Явные пропуски присутствуют только в признаке balance."
   ]
  },
  {
   "cell_type": "markdown",
   "id": "6366f059",
   "metadata": {},
   "source": [
    "В признаке job имеются пропущенные значения, но они обозначены специальным словом."
   ]
  },
  {
   "cell_type": "code",
   "execution_count": 5,
   "id": "98ea29d4",
   "metadata": {},
   "outputs": [
    {
     "data": {
      "text/plain": [
       "management       2566\n",
       "blue-collar      1944\n",
       "technician       1823\n",
       "admin.           1334\n",
       "services          923\n",
       "retired           778\n",
       "self-employed     405\n",
       "student           360\n",
       "unemployed        357\n",
       "entrepreneur      328\n",
       "housemaid         274\n",
       "unknown            70\n",
       "Name: job, dtype: int64"
      ]
     },
     "execution_count": 5,
     "metadata": {},
     "output_type": "execute_result"
    }
   ],
   "source": [
    "data['job'].value_counts() # Пропуски в признаке job обозначены как unknown. Их 70."
   ]
  },
  {
   "cell_type": "markdown",
   "id": "8fcf4fcd",
   "metadata": {},
   "source": [
    "Преобразуем признак balance, чтобы он считывался как вещественное число (float)."
   ]
  },
  {
   "cell_type": "code",
   "execution_count": 6,
   "id": "3a01be5e",
   "metadata": {},
   "outputs": [
    {
     "data": {
      "text/plain": [
       "0         2 343,00 $ \n",
       "1            45,00 $ \n",
       "2         1 270,00 $ \n",
       "3         2 476,00 $ \n",
       "4           184,00 $ \n",
       "             ...     \n",
       "11157         1,00 $ \n",
       "11158       733,00 $ \n",
       "11159        29,00 $ \n",
       "11160           0  $ \n",
       "11161           0  $ \n",
       "Name: balance, Length: 11162, dtype: object"
      ]
     },
     "execution_count": 6,
     "metadata": {},
     "output_type": "execute_result"
    }
   ],
   "source": [
    "data['balance']#.value_counts() # Так выглядят данные."
   ]
  },
  {
   "cell_type": "code",
   "execution_count": 7,
   "id": "8311d2fa",
   "metadata": {},
   "outputs": [
    {
     "data": {
      "text/plain": [
       "9       NaN\n",
       "2859    NaN\n",
       "2860    NaN\n",
       "2888    NaN\n",
       "2889    NaN\n",
       "5356    NaN\n",
       "5357    NaN\n",
       "5358    NaN\n",
       "5359    NaN\n",
       "5360    NaN\n",
       "5361    NaN\n",
       "5362    NaN\n",
       "5385    NaN\n",
       "5386    NaN\n",
       "5427    NaN\n",
       "5428    NaN\n",
       "5465    NaN\n",
       "5467    NaN\n",
       "5468    NaN\n",
       "5480    NaN\n",
       "5481    NaN\n",
       "5570    NaN\n",
       "5571    NaN\n",
       "9954    NaN\n",
       "9955    NaN\n",
       "Name: balance, dtype: object"
      ]
     },
     "execution_count": 7,
     "metadata": {},
     "output_type": "execute_result"
    }
   ],
   "source": [
    "data['balance'][data['balance'].isnull()==True] # Пропуски."
   ]
  },
  {
   "cell_type": "code",
   "execution_count": 8,
   "id": "ee6140c2",
   "metadata": {},
   "outputs": [
    {
     "data": {
      "text/plain": [
       "11162"
      ]
     },
     "execution_count": 8,
     "metadata": {},
     "output_type": "execute_result"
    }
   ],
   "source": [
    "result = []\n",
    "\n",
    "for balance in data['balance']:\n",
    "    if type(balance)==str:\n",
    "        balance = float(balance.replace(' ', '').replace('$', '').replace(',', '.'))\n",
    "#         print(balance)\n",
    "        result.append(balance)\n",
    "    else:\n",
    "        result.append(balance)\n",
    "        \n",
    "len(result) # Проверяем соответствие длины списка и длины датасета."
   ]
  },
  {
   "cell_type": "code",
   "execution_count": 9,
   "id": "1b5c8b61",
   "metadata": {},
   "outputs": [
    {
     "data": {
      "text/plain": [
       "0        2343.0\n",
       "1          45.0\n",
       "2        1270.0\n",
       "3        2476.0\n",
       "4         184.0\n",
       "          ...  \n",
       "11157       1.0\n",
       "11158     733.0\n",
       "11159      29.0\n",
       "11160       0.0\n",
       "11161       0.0\n",
       "Name: balance, Length: 11162, dtype: float64"
      ]
     },
     "execution_count": 9,
     "metadata": {},
     "output_type": "execute_result"
    }
   ],
   "source": [
    "data['balance'] = result\n",
    "data['balance'] # Теперь данные выглядят так."
   ]
  },
  {
   "cell_type": "markdown",
   "id": "6de63fd7",
   "metadata": {},
   "source": [
    "Обработаем пропуски в признаке balance, заменим их на медианные значения."
   ]
  },
  {
   "cell_type": "code",
   "execution_count": 10,
   "id": "6a684a63",
   "metadata": {},
   "outputs": [
    {
     "data": {
      "text/plain": [
       "0"
      ]
     },
     "execution_count": 10,
     "metadata": {},
     "output_type": "execute_result"
    }
   ],
   "source": [
    "data['balance'] = data['balance'].fillna(data['balance'].median())\n",
    "data['balance'].isnull().sum() # Проверям на пропуски."
   ]
  },
  {
   "cell_type": "markdown",
   "id": "1097ec42",
   "metadata": {},
   "source": [
    "Обработаем пропуски в категориальных признаках job и education, заменив их на модальные значения."
   ]
  },
  {
   "cell_type": "code",
   "execution_count": 11,
   "id": "0fa070a6",
   "metadata": {},
   "outputs": [
    {
     "data": {
      "text/plain": [
       "management       2636\n",
       "blue-collar      1944\n",
       "technician       1823\n",
       "admin.           1334\n",
       "services          923\n",
       "retired           778\n",
       "self-employed     405\n",
       "student           360\n",
       "unemployed        357\n",
       "entrepreneur      328\n",
       "housemaid         274\n",
       "Name: job, dtype: int64"
      ]
     },
     "execution_count": 11,
     "metadata": {},
     "output_type": "execute_result"
    }
   ],
   "source": [
    "# Заменим модой (management) пропущенные значения в признаке job.\n",
    "data['job'] = data['job'].replace('unknown', data['job'].mode()[0])\n",
    "data['job'].value_counts() # Как видим количество значений management увеличилось на 70."
   ]
  },
  {
   "cell_type": "code",
   "execution_count": 12,
   "id": "5e76267e",
   "metadata": {},
   "outputs": [
    {
     "data": {
      "text/plain": [
       "secondary    5973\n",
       "tertiary     3689\n",
       "primary      1500\n",
       "Name: education, dtype: int64"
      ]
     },
     "execution_count": 12,
     "metadata": {},
     "output_type": "execute_result"
    }
   ],
   "source": [
    "# Заменим модой (secondary) пропущенные значения в признаке education.\n",
    "data['education'] = data['education'].replace('unknown', data['education'].mode()[0])\n",
    "data['education'].value_counts() # Проверяем. Значений secondary увеличилось на 497."
   ]
  },
  {
   "cell_type": "markdown",
   "id": "02af77c6",
   "metadata": {},
   "source": [
    "Удалим выбросы в признаке balance."
   ]
  },
  {
   "cell_type": "code",
   "execution_count": 13,
   "id": "3802cdd9",
   "metadata": {},
   "outputs": [],
   "source": [
    "# удалите все выбросы для признака balance\n",
    "Q1 = data['balance'].quantile(0.25)\n",
    "Q3 = data['balance'].quantile(0.75)\n",
    "IQR = Q3 - Q1 # Межквартильный размах.\n",
    "# Нижняя граница выбросов.\n",
    "a = Q1 - 1.5*IQR\n",
    "# Верхняя граница выбросов.\n",
    "b = Q3 + 1.5*IQR\n",
    "data_1 = data[(data['balance'] <= b) & (data['balance'] >= a)] # Создали новый датафрейм без выбросов по признаку balance."
   ]
  },
  {
   "cell_type": "markdown",
   "id": "5d22b8cd",
   "metadata": {},
   "source": [
    "## Часть 2:  Разведывательный анализ"
   ]
  },
  {
   "cell_type": "markdown",
   "id": "21e1f083",
   "metadata": {},
   "source": [
    "Изучим соотношение классов в данных на предмет несбалансированности."
   ]
  },
  {
   "cell_type": "code",
   "execution_count": 14,
   "id": "6d0cd3a8",
   "metadata": {},
   "outputs": [
    {
     "data": {
      "text/plain": [
       "no     5424\n",
       "yes    4681\n",
       "Name: deposit, dtype: int64"
      ]
     },
     "metadata": {},
     "output_type": "display_data"
    },
    {
     "data": {
      "text/plain": [
       "no     0.536764\n",
       "yes    0.463236\n",
       "Name: deposit, dtype: float64"
      ]
     },
     "metadata": {},
     "output_type": "display_data"
    },
    {
     "data": {
      "image/png": "[encoded data removed]",
      "text/plain": [
       "<Figure size 432x288 with 1 Axes>"
      ]
     },
     "metadata": {
      "needs_background": "light"
     },
     "output_type": "display_data"
    }
   ],
   "source": [
    "display(data_1['deposit'].value_counts())\n",
    "display(data_1['deposit'].value_counts(normalize=True))\n",
    "\n",
    "ax = sns.countplot(data_1['deposit'])\n",
    "ax.set(xlabel='Account is opened', ylabel='Number of clients')\n",
    "ax.set_title('Class balance\\n',fontsize=16);"
   ]
  },
  {
   "cell_type": "markdown",
   "id": "426b1d40",
   "metadata": {},
   "source": [
    "Рассчитаем описательные статистики для количественных переменных."
   ]
  },
  {
   "cell_type": "code",
   "execution_count": 15,
   "id": "603cdb3c",
   "metadata": {},
   "outputs": [
    {
     "data": {
      "text/html": [
       "<div>\n",
       "<style scoped>\n",
       "    .dataframe tbody tr th:only-of-type {\n",
       "        vertical-align: middle;\n",
       "    }\n",
       "\n",
       "    .dataframe tbody tr th {\n",
       "        vertical-align: top;\n",
       "    }\n",
       "\n",
       "    .dataframe thead th {\n",
       "        text-align: right;\n",
       "    }\n",
       "</style>\n",
       "<table border=\"1\" class=\"dataframe\">\n",
       "  <thead>\n",
       "    <tr style=\"text-align: right;\">\n",
       "      <th></th>\n",
       "      <th>age</th>\n",
       "      <th>balance</th>\n",
       "      <th>day</th>\n",
       "      <th>duration</th>\n",
       "      <th>campaign</th>\n",
       "      <th>pdays</th>\n",
       "      <th>previous</th>\n",
       "    </tr>\n",
       "  </thead>\n",
       "  <tbody>\n",
       "    <tr>\n",
       "      <th>count</th>\n",
       "      <td>10105.000000</td>\n",
       "      <td>10105.000000</td>\n",
       "      <td>10105.000000</td>\n",
       "      <td>10105.000000</td>\n",
       "      <td>10105.000000</td>\n",
       "      <td>10105.000000</td>\n",
       "      <td>10105.000000</td>\n",
       "    </tr>\n",
       "    <tr>\n",
       "      <th>mean</th>\n",
       "      <td>40.895497</td>\n",
       "      <td>807.653538</td>\n",
       "      <td>15.590302</td>\n",
       "      <td>368.742603</td>\n",
       "      <td>2.517170</td>\n",
       "      <td>51.319644</td>\n",
       "      <td>0.816230</td>\n",
       "    </tr>\n",
       "    <tr>\n",
       "      <th>std</th>\n",
       "      <td>11.734931</td>\n",
       "      <td>994.151966</td>\n",
       "      <td>8.441510</td>\n",
       "      <td>346.651524</td>\n",
       "      <td>2.707159</td>\n",
       "      <td>109.644179</td>\n",
       "      <td>2.243795</td>\n",
       "    </tr>\n",
       "    <tr>\n",
       "      <th>min</th>\n",
       "      <td>18.000000</td>\n",
       "      <td>-2049.000000</td>\n",
       "      <td>1.000000</td>\n",
       "      <td>2.000000</td>\n",
       "      <td>1.000000</td>\n",
       "      <td>-1.000000</td>\n",
       "      <td>0.000000</td>\n",
       "    </tr>\n",
       "    <tr>\n",
       "      <th>25%</th>\n",
       "      <td>32.000000</td>\n",
       "      <td>95.000000</td>\n",
       "      <td>8.000000</td>\n",
       "      <td>137.000000</td>\n",
       "      <td>1.000000</td>\n",
       "      <td>-1.000000</td>\n",
       "      <td>0.000000</td>\n",
       "    </tr>\n",
       "    <tr>\n",
       "      <th>50%</th>\n",
       "      <td>38.000000</td>\n",
       "      <td>445.000000</td>\n",
       "      <td>15.000000</td>\n",
       "      <td>252.000000</td>\n",
       "      <td>2.000000</td>\n",
       "      <td>-1.000000</td>\n",
       "      <td>0.000000</td>\n",
       "    </tr>\n",
       "    <tr>\n",
       "      <th>75%</th>\n",
       "      <td>48.000000</td>\n",
       "      <td>1227.000000</td>\n",
       "      <td>22.000000</td>\n",
       "      <td>490.000000</td>\n",
       "      <td>3.000000</td>\n",
       "      <td>2.000000</td>\n",
       "      <td>1.000000</td>\n",
       "    </tr>\n",
       "    <tr>\n",
       "      <th>max</th>\n",
       "      <td>95.000000</td>\n",
       "      <td>4063.000000</td>\n",
       "      <td>31.000000</td>\n",
       "      <td>3881.000000</td>\n",
       "      <td>43.000000</td>\n",
       "      <td>854.000000</td>\n",
       "      <td>58.000000</td>\n",
       "    </tr>\n",
       "  </tbody>\n",
       "</table>\n",
       "</div>"
      ],
      "text/plain": [
       "                age       balance           day      duration      campaign  \\\n",
       "count  10105.000000  10105.000000  10105.000000  10105.000000  10105.000000   \n",
       "mean      40.895497    807.653538     15.590302    368.742603      2.517170   \n",
       "std       11.734931    994.151966      8.441510    346.651524      2.707159   \n",
       "min       18.000000  -2049.000000      1.000000      2.000000      1.000000   \n",
       "25%       32.000000     95.000000      8.000000    137.000000      1.000000   \n",
       "50%       38.000000    445.000000     15.000000    252.000000      2.000000   \n",
       "75%       48.000000   1227.000000     22.000000    490.000000      3.000000   \n",
       "max       95.000000   4063.000000     31.000000   3881.000000     43.000000   \n",
       "\n",
       "              pdays      previous  \n",
       "count  10105.000000  10105.000000  \n",
       "mean      51.319644      0.816230  \n",
       "std      109.644179      2.243795  \n",
       "min       -1.000000      0.000000  \n",
       "25%       -1.000000      0.000000  \n",
       "50%       -1.000000      0.000000  \n",
       "75%        2.000000      1.000000  \n",
       "max      854.000000     58.000000  "
      ]
     },
     "metadata": {},
     "output_type": "display_data"
    },
    {
     "data": {
      "image/png": "[encoded data removed]",
      "text/plain": [
       "<Figure size 1080x864 with 12 Axes>"
      ]
     },
     "metadata": {
      "needs_background": "light"
     },
     "output_type": "display_data"
    }
   ],
   "source": [
    "display(data_1.describe())\n",
    "\n",
    "fig, ax = plt.subplots(4,3, figsize=(15,12))\n",
    "sns.histplot(data_1['age'], bins=25, ax=ax[0,0])       # Возраст\n",
    "sns.histplot(data_1['balance'], bins=25, ax=ax[0,1])   # Баланс\n",
    "sns.histplot(data_1['duration'], bins=25, ax=ax[0,2])  # Продолжительность контакта\n",
    "sns.boxplot(data=data_1, x='age', y='deposit', ax=ax[1,0]) \n",
    "sns.boxplot(data=data_1, x='balance', y='deposit', ax=ax[1,1])\n",
    "sns.boxplot(data=data_1, x='duration', y='deposit', ax=ax[1,2])\n",
    "sns.histplot(data_1['campaign'], bins=20, ax=ax[2,0])  # Количество контактов\n",
    "sns.histplot(data_1['pdays'], bins=10, ax=ax[2,1])     # Количество дней после предыдущей кампании\n",
    "sns.histplot(data_1['previous'], bins=25, ax=ax[2,2])  # Количество предыдущих контактов\n",
    "sns.boxplot(data=data_1, x='campaign', y='deposit', ax=ax[3,0])\n",
    "sns.boxplot(data=data_1, x='pdays', y='deposit', ax=ax[3,1])\n",
    "sns.boxplot(data=data_1, x='previous', y='deposit', ax=ax[3,2])\n",
    "plt.suptitle('Distributions of the numerical features\\n', fontsize=16)\n",
    "plt.tight_layout()"
   ]
  },
  {
   "cell_type": "markdown",
   "id": "02a5b64b",
   "metadata": {},
   "source": [
    "#### *Общий вид распределений, выбросы*\n",
    "\n",
    "* Возраст (age). Пик распределения возраста приходится на 30-35 лет с достаточно большим количеством клиентов допенсионного возраста, количество клиентов старше 60 лет резко падает. Распределение с правой асимметрией в сторону старшего возраста.\n",
    "* Баланс (balance). Есть небольшое количество отрацительных балансов. В остальном распределение логнормальное с преобладанием небольших балансов. Возможно, следует дополнительно убрать выбросы отрицательного баланса, расположенные левее границы распределения (менее -1100).\n",
    "* Продолжительность контакта (duration). Средняя продолжительность контакта около 5 мин. Распределение логнормальное. Возможно наличие выбросов - контакт более 30 мин.\n",
    "* Количество контактов (campaign). Логнормальное. Выбросы - число контактов более 15.\n",
    "* Количество дней с момента предыдущей кампании (pdays). Логнормальное. Выбросы - более 500 дней.\n",
    "* Количество предыдущих контактов (previous). Логнормальное. Выбросы аналогичны признаку campaign - более 15.\n",
    "\n",
    "Для более точного определения границ распределений и удаления выбросов желательно предварительно преобразовать часть признаков в логарифмическую шкалу и применить критерий Тьюки или 3 * sigma.\n",
    "\n",
    "#### *Влияние на целевой признак*\n",
    "\n",
    "Визуально значимые отличия в распределениях по отношению к целевому признаку - открытию депозита (deposit) - наблюдаются у нескольких признаков (см. диаграммы размаха). На вероятное открытие депозита указывает продолжительность контакта - чем он дольше, тем выше шансы положительного результата. Наоборот, большее количество контактов говорит о меньших шансах, т.е. попытки контактировать с клиентом более нескольких раз не имеют особого смысла, результат либо достигается при первых контактах, либо не достигается вообще. Более вероятно открытие депозита у клиентов с большей суммой на счете. Распределение признаков pdays и previous говорит о том, что старый друг лучше новых двух - большинство клиентов, не открывших депозит, относятся к новым (pdays=-1, previous=0). Распределение по возрасту для клиентов, не открывших депозит, имеет меньшую дисперсию по сравнению с открывшими, но медианные значения почти не отличаются."
   ]
  },
  {
   "cell_type": "markdown",
   "id": "821dc39e",
   "metadata": {},
   "source": [
    "Рассчитаем описательные статистики для категориальных переменных."
   ]
  },
  {
   "cell_type": "code",
   "execution_count": 16,
   "id": "bf45afc9",
   "metadata": {},
   "outputs": [
    {
     "data": {
      "text/html": [
       "<div>\n",
       "<style scoped>\n",
       "    .dataframe tbody tr th:only-of-type {\n",
       "        vertical-align: middle;\n",
       "    }\n",
       "\n",
       "    .dataframe tbody tr th {\n",
       "        vertical-align: top;\n",
       "    }\n",
       "\n",
       "    .dataframe thead th {\n",
       "        text-align: right;\n",
       "    }\n",
       "</style>\n",
       "<table border=\"1\" class=\"dataframe\">\n",
       "  <thead>\n",
       "    <tr style=\"text-align: right;\">\n",
       "      <th></th>\n",
       "      <th>job</th>\n",
       "      <th>marital</th>\n",
       "      <th>education</th>\n",
       "      <th>default</th>\n",
       "      <th>housing</th>\n",
       "      <th>loan</th>\n",
       "      <th>contact</th>\n",
       "      <th>month</th>\n",
       "      <th>poutcome</th>\n",
       "      <th>deposit</th>\n",
       "    </tr>\n",
       "  </thead>\n",
       "  <tbody>\n",
       "    <tr>\n",
       "      <th>count</th>\n",
       "      <td>10105</td>\n",
       "      <td>10105</td>\n",
       "      <td>10105</td>\n",
       "      <td>10105</td>\n",
       "      <td>10105</td>\n",
       "      <td>10105</td>\n",
       "      <td>10105</td>\n",
       "      <td>10105</td>\n",
       "      <td>10105</td>\n",
       "      <td>10105</td>\n",
       "    </tr>\n",
       "    <tr>\n",
       "      <th>unique</th>\n",
       "      <td>11</td>\n",
       "      <td>3</td>\n",
       "      <td>3</td>\n",
       "      <td>2</td>\n",
       "      <td>2</td>\n",
       "      <td>2</td>\n",
       "      <td>3</td>\n",
       "      <td>12</td>\n",
       "      <td>4</td>\n",
       "      <td>2</td>\n",
       "    </tr>\n",
       "    <tr>\n",
       "      <th>top</th>\n",
       "      <td>management</td>\n",
       "      <td>married</td>\n",
       "      <td>secondary</td>\n",
       "      <td>no</td>\n",
       "      <td>no</td>\n",
       "      <td>no</td>\n",
       "      <td>cellular</td>\n",
       "      <td>may</td>\n",
       "      <td>unknown</td>\n",
       "      <td>no</td>\n",
       "    </tr>\n",
       "    <tr>\n",
       "      <th>freq</th>\n",
       "      <td>2315</td>\n",
       "      <td>5715</td>\n",
       "      <td>5517</td>\n",
       "      <td>9939</td>\n",
       "      <td>5243</td>\n",
       "      <td>8712</td>\n",
       "      <td>7283</td>\n",
       "      <td>2617</td>\n",
       "      <td>7570</td>\n",
       "      <td>5424</td>\n",
       "    </tr>\n",
       "  </tbody>\n",
       "</table>\n",
       "</div>"
      ],
      "text/plain": [
       "               job  marital  education default housing   loan   contact  \\\n",
       "count        10105    10105      10105   10105   10105  10105     10105   \n",
       "unique          11        3          3       2       2      2         3   \n",
       "top     management  married  secondary      no      no     no  cellular   \n",
       "freq          2315     5715       5517    9939    5243   8712      7283   \n",
       "\n",
       "        month poutcome deposit  \n",
       "count   10105    10105   10105  \n",
       "unique     12        4       2  \n",
       "top       may  unknown      no  \n",
       "freq     2617     7570    5424  "
      ]
     },
     "metadata": {},
     "output_type": "display_data"
    },
    {
     "data": {
      "image/png": "[encoded data removed]",
      "text/plain": [
       "<Figure size 1440x432 with 10 Axes>"
      ]
     },
     "metadata": {
      "needs_background": "light"
     },
     "output_type": "display_data"
    }
   ],
   "source": [
    "display(data_1.describe(include='object'))\n",
    "\n",
    "fig, ax = plt.subplots(2, 5, figsize=(20, 6))\n",
    "\n",
    "# Сфера занятости\n",
    "sns.countplot(\n",
    "    data=data_1, x='job', hue='deposit', \n",
    "    order=data_1['job'].value_counts().index, ax=ax[0,0])\n",
    "\n",
    "# Семейное положение\n",
    "sns.countplot(\n",
    "    data=data_1, x='marital', hue='deposit',\n",
    "    order=data_1['marital'].value_counts().index, ax=ax[0,1])\n",
    "\n",
    "# Уровень образования\n",
    "sns.countplot(\n",
    "    data=data_1, x='education', hue='deposit',\n",
    "    order=data_1['education'].value_counts().index, ax=ax[0,2])\n",
    "\n",
    "# Наличие просроченного кредита\n",
    "sns.countplot(\n",
    "    data=data_1, x='default', hue='deposit',\n",
    "    order=data_1['default'].value_counts().index, ax=ax[0,3])\n",
    "\n",
    "# Наличие ипотеки\n",
    "sns.countplot(\n",
    "    data=data_1, x='housing', hue='deposit',\n",
    "    order=data_1['housing'].value_counts().index, ax=ax[0,4])\n",
    "\n",
    "# Наличие потребительского кредита\n",
    "sns.countplot(\n",
    "    data=data_1, x='loan', hue='deposit',\n",
    "    order=data_1['loan'].value_counts().index, ax=ax[1,0])\n",
    "\n",
    "# Тип контакта с клиентом\n",
    "sns.countplot(\n",
    "    data=data_1, x='contact', hue='deposit', \n",
    "    order=data_1['contact'].value_counts().index, ax=ax[1,1])\n",
    "\n",
    "# Месяц последнего контакта с клиентом\n",
    "sns.countplot(\n",
    "    data=data_1, x='month', hue='deposit',\n",
    "    order=data_1['month'].value_counts().index, ax=ax[1,2])\n",
    "\n",
    "# Результат предыдущей маркетинговой кампании\n",
    "sns.countplot(\n",
    "    data=data_1, x='poutcome', hue='deposit',\n",
    "    order=data_1['poutcome'].value_counts().index, ax=ax[1,3])\n",
    "ax[0,0].tick_params(labelrotation=70)\n",
    "plt.suptitle(\n",
    "    'Categorical parameters relative to the target feature (deposit)\\n',\n",
    "    fontsize=16)\n",
    "plt.tight_layout()"
   ]
  },
  {
   "cell_type": "markdown",
   "id": "c4cec983",
   "metadata": {},
   "source": [
    "На рисунке видим соотношения различных категорий клиентов в разрезе достижения целевого признака - открытия депозита (deposit). Можно сказать, что наиболее склонны к открытию депозита следующие категории клиентов:\n",
    "\n",
    "* пенсионеры и студенты (при небольшом относительном количестве и тех и других);\n",
    "* клиенты, по которым был достигнут успех в предыдущей маркетинговой кампании - подавляющее большинство дают положительный результат и в текущей кампании;\n",
    "* неженатые/незамужние клиенты, а также клиенты, не имеющие ипотеки (и те, и другие - в меньшей степени, однако в этих категориях число клиентов, открывших депозит, превышает число отрицательных результатов, что довольно нетипично для выборки в целом);\n",
    "* клиенты, с которыми связывались по мобильному телефону - та же картина.\n",
    "\n",
    "Наиболее неудачные результаты по привлечению к открытию депозита:\n",
    "\n",
    "* \"синие воротнички\";\n",
    "* клиенты с потребительскими кредитами\n",
    "\n",
    "По какой-то причине наблюдаются значительные различия в успешности маркетинговой кампании по месяцам: исключительно успешные результаты в марте, апреле, сентябре, октябре и декабре, но существенный провал в мае. Данное обстоятельство требует дополнительного изучения в контексте построения модели машинного обучения - результаты могут быть связаны с конкретными \"локальными\" обстоятельствами маркетинговой кампании и не отражать общей тенденции (зависимости от времени года). Включение такой локальной зависимости в модель приведет к успешному предсказанию текущей ситуации, в том числе на тестовой выборке, однако нет гарантии, что новые данные будут соответствовать модели."
   ]
  },
  {
   "cell_type": "markdown",
   "id": "472cff5b",
   "metadata": {},
   "source": [
    "Узнаем, для какого статуса предыдущей маркетинговой кампании успех в текущей превалирует над количеством неудач."
   ]
  },
  {
   "cell_type": "code",
   "execution_count": 17,
   "id": "2d640ce1",
   "metadata": {},
   "outputs": [
    {
     "data": {
      "text/html": [
       "<div>\n",
       "<style scoped>\n",
       "    .dataframe tbody tr th:only-of-type {\n",
       "        vertical-align: middle;\n",
       "    }\n",
       "\n",
       "    .dataframe tbody tr th {\n",
       "        vertical-align: top;\n",
       "    }\n",
       "\n",
       "    .dataframe thead th {\n",
       "        text-align: right;\n",
       "    }\n",
       "</style>\n",
       "<table border=\"1\" class=\"dataframe\">\n",
       "  <thead>\n",
       "    <tr style=\"text-align: right;\">\n",
       "      <th>deposit</th>\n",
       "      <th>no</th>\n",
       "      <th>yes</th>\n",
       "    </tr>\n",
       "    <tr>\n",
       "      <th>poutcome</th>\n",
       "      <th></th>\n",
       "      <th></th>\n",
       "    </tr>\n",
       "  </thead>\n",
       "  <tbody>\n",
       "    <tr>\n",
       "      <th>failure</th>\n",
       "      <td>562</td>\n",
       "      <td>547</td>\n",
       "    </tr>\n",
       "    <tr>\n",
       "      <th>other</th>\n",
       "      <td>216</td>\n",
       "      <td>265</td>\n",
       "    </tr>\n",
       "    <tr>\n",
       "      <th>success</th>\n",
       "      <td>84</td>\n",
       "      <td>861</td>\n",
       "    </tr>\n",
       "    <tr>\n",
       "      <th>unknown</th>\n",
       "      <td>4562</td>\n",
       "      <td>3008</td>\n",
       "    </tr>\n",
       "  </tbody>\n",
       "</table>\n",
       "</div>"
      ],
      "text/plain": [
       "deposit     no   yes\n",
       "poutcome            \n",
       "failure    562   547\n",
       "other      216   265\n",
       "success     84   861\n",
       "unknown   4562  3008"
      ]
     },
     "execution_count": 17,
     "metadata": {},
     "output_type": "execute_result"
    }
   ],
   "source": [
    "data_1.groupby('poutcome')['deposit'].value_counts().unstack()"
   ]
  },
  {
   "cell_type": "markdown",
   "id": "b300bf16",
   "metadata": {},
   "source": [
    "Как видно из вывода клиенты со статусом предыдущей кампании success открывают депозит значительно чаще."
   ]
  },
  {
   "cell_type": "markdown",
   "id": "9c32e3aa",
   "metadata": {},
   "source": [
    "Узнаем, в каком месяце чаще всего отказывались от предложения открыть депозит."
   ]
  },
  {
   "cell_type": "code",
   "execution_count": 18,
   "id": "df437ec3",
   "metadata": {},
   "outputs": [
    {
     "data": {
      "text/html": [
       "<div>\n",
       "<style scoped>\n",
       "    .dataframe tbody tr th:only-of-type {\n",
       "        vertical-align: middle;\n",
       "    }\n",
       "\n",
       "    .dataframe tbody tr th {\n",
       "        vertical-align: top;\n",
       "    }\n",
       "\n",
       "    .dataframe thead th {\n",
       "        text-align: right;\n",
       "    }\n",
       "</style>\n",
       "<table border=\"1\" class=\"dataframe\">\n",
       "  <thead>\n",
       "    <tr style=\"text-align: right;\">\n",
       "      <th>deposit</th>\n",
       "      <th>no</th>\n",
       "      <th>yes</th>\n",
       "    </tr>\n",
       "    <tr>\n",
       "      <th>month</th>\n",
       "      <th></th>\n",
       "      <th></th>\n",
       "    </tr>\n",
       "  </thead>\n",
       "  <tbody>\n",
       "    <tr>\n",
       "      <th>may</th>\n",
       "      <td>67.863966</td>\n",
       "      <td>32.136034</td>\n",
       "    </tr>\n",
       "    <tr>\n",
       "      <th>jan</th>\n",
       "      <td>60.815047</td>\n",
       "      <td>39.184953</td>\n",
       "    </tr>\n",
       "    <tr>\n",
       "      <th>jul</th>\n",
       "      <td>58.956276</td>\n",
       "      <td>41.043724</td>\n",
       "    </tr>\n",
       "    <tr>\n",
       "      <th>nov</th>\n",
       "      <td>58.461538</td>\n",
       "      <td>41.538462</td>\n",
       "    </tr>\n",
       "    <tr>\n",
       "      <th>aug</th>\n",
       "      <td>55.956679</td>\n",
       "      <td>44.043321</td>\n",
       "    </tr>\n",
       "    <tr>\n",
       "      <th>jun</th>\n",
       "      <td>54.891304</td>\n",
       "      <td>45.108696</td>\n",
       "    </tr>\n",
       "    <tr>\n",
       "      <th>feb</th>\n",
       "      <td>45.557123</td>\n",
       "      <td>54.442877</td>\n",
       "    </tr>\n",
       "    <tr>\n",
       "      <th>apr</th>\n",
       "      <td>38.192771</td>\n",
       "      <td>61.807229</td>\n",
       "    </tr>\n",
       "    <tr>\n",
       "      <th>oct</th>\n",
       "      <td>18.507463</td>\n",
       "      <td>81.492537</td>\n",
       "    </tr>\n",
       "    <tr>\n",
       "      <th>sep</th>\n",
       "      <td>16.546763</td>\n",
       "      <td>83.453237</td>\n",
       "    </tr>\n",
       "    <tr>\n",
       "      <th>mar</th>\n",
       "      <td>10.126582</td>\n",
       "      <td>89.873418</td>\n",
       "    </tr>\n",
       "    <tr>\n",
       "      <th>dec</th>\n",
       "      <td>9.677419</td>\n",
       "      <td>90.322581</td>\n",
       "    </tr>\n",
       "  </tbody>\n",
       "</table>\n",
       "</div>"
      ],
      "text/plain": [
       "deposit         no        yes\n",
       "month                        \n",
       "may      67.863966  32.136034\n",
       "jan      60.815047  39.184953\n",
       "jul      58.956276  41.043724\n",
       "nov      58.461538  41.538462\n",
       "aug      55.956679  44.043321\n",
       "jun      54.891304  45.108696\n",
       "feb      45.557123  54.442877\n",
       "apr      38.192771  61.807229\n",
       "oct      18.507463  81.492537\n",
       "sep      16.546763  83.453237\n",
       "mar      10.126582  89.873418\n",
       "dec       9.677419  90.322581"
      ]
     },
     "execution_count": 18,
     "metadata": {},
     "output_type": "execute_result"
    }
   ],
   "source": [
    "# процент отказов/согласия по месяцам:\n",
    "(data_1.groupby('month')['deposit'].value_counts(normalize=True).unstack() \\\n",
    "    * 100).sort_values('no', ascending=False)  "
   ]
  },
  {
   "cell_type": "markdown",
   "id": "78e5a736",
   "metadata": {},
   "source": [
    "Максимум отказов в процентном соотношении - май."
   ]
  },
  {
   "cell_type": "markdown",
   "id": "5f20762f",
   "metadata": {},
   "source": [
    "Создадим возрастные группы и определим, в каких группах более склонны открывать депозит, чем отказываться от него."
   ]
  },
  {
   "cell_type": "code",
   "execution_count": 19,
   "id": "95d56f1b",
   "metadata": {},
   "outputs": [
    {
     "data": {
      "text/plain": [
       "age_group  deposit\n",
       "1          yes         861\n",
       "           no          594\n",
       "2          no         2245\n",
       "           yes        1716\n",
       "3          no         1444\n",
       "           yes         938\n",
       "4          no          984\n",
       "           yes         670\n",
       "5          yes         496\n",
       "           no          157\n",
       "Name: deposit, dtype: int64"
      ]
     },
     "execution_count": 19,
     "metadata": {},
     "output_type": "execute_result"
    }
   ],
   "source": [
    "conditions = [\n",
    "    (data_1['age'] < 30),\n",
    "    (data_1['age'] >= 30) & (data_1['age'] < 40),\n",
    "    (data_1['age'] >= 40) & (data_1['age'] < 50),\n",
    "    (data_1['age'] >= 50) & (data_1['age'] < 60),\n",
    "    (data_1['age'] >= 60)]\n",
    "choices = [1, 2, 3, 4, 5]\n",
    "data_1['age_group'] = np.select(conditions, choices)\n",
    "# data_1[['age', 'age_group']].head()\n",
    "\n",
    "data_1.groupby('age_group')['deposit'].value_counts()"
   ]
  },
  {
   "cell_type": "code",
   "execution_count": 20,
   "id": "831cc43a",
   "metadata": {},
   "outputs": [
    {
     "data": {
      "text/html": [
       "<div>\n",
       "<style scoped>\n",
       "    .dataframe tbody tr th:only-of-type {\n",
       "        vertical-align: middle;\n",
       "    }\n",
       "\n",
       "    .dataframe tbody tr th {\n",
       "        vertical-align: top;\n",
       "    }\n",
       "\n",
       "    .dataframe thead th {\n",
       "        text-align: right;\n",
       "    }\n",
       "</style>\n",
       "<table border=\"1\" class=\"dataframe\">\n",
       "  <thead>\n",
       "    <tr style=\"text-align: right;\">\n",
       "      <th>deposit</th>\n",
       "      <th>age_group</th>\n",
       "      <th>no</th>\n",
       "      <th>yes</th>\n",
       "    </tr>\n",
       "  </thead>\n",
       "  <tbody>\n",
       "    <tr>\n",
       "      <th>0</th>\n",
       "      <td>1</td>\n",
       "      <td>40.824742</td>\n",
       "      <td>59.175258</td>\n",
       "    </tr>\n",
       "    <tr>\n",
       "      <th>1</th>\n",
       "      <td>2</td>\n",
       "      <td>56.677607</td>\n",
       "      <td>43.322393</td>\n",
       "    </tr>\n",
       "    <tr>\n",
       "      <th>2</th>\n",
       "      <td>3</td>\n",
       "      <td>60.621327</td>\n",
       "      <td>39.378673</td>\n",
       "    </tr>\n",
       "    <tr>\n",
       "      <th>3</th>\n",
       "      <td>4</td>\n",
       "      <td>59.492140</td>\n",
       "      <td>40.507860</td>\n",
       "    </tr>\n",
       "    <tr>\n",
       "      <th>4</th>\n",
       "      <td>5</td>\n",
       "      <td>24.042879</td>\n",
       "      <td>75.957121</td>\n",
       "    </tr>\n",
       "  </tbody>\n",
       "</table>\n",
       "</div>"
      ],
      "text/plain": [
       "deposit  age_group         no        yes\n",
       "0                1  40.824742  59.175258\n",
       "1                2  56.677607  43.322393\n",
       "2                3  60.621327  39.378673\n",
       "3                4  59.492140  40.507860\n",
       "4                5  24.042879  75.957121"
      ]
     },
     "execution_count": 20,
     "metadata": {},
     "output_type": "execute_result"
    }
   ],
   "source": [
    "piv_tab = (data_1.groupby('age_group')['deposit'].value_counts(normalize=True) \\\n",
    "    * 100).unstack().reset_index() # процент отказов/согласия по группам\n",
    "piv_tab"
   ]
  },
  {
   "cell_type": "code",
   "execution_count": 21,
   "id": "8a96d31c",
   "metadata": {},
   "outputs": [
    {
     "data": {
      "image/png": "[encoded data removed]",
      "text/plain": [
       "<Figure size 432x288 with 1 Axes>"
      ]
     },
     "metadata": {
      "needs_background": "light"
     },
     "output_type": "display_data"
    }
   ],
   "source": [
    "ax = sns.barplot(\n",
    "    data=piv_tab,  y='yes', x='age_group'#,\n",
    "#     order=['youth', 'thirties', 'forties', 'fifties', 'elders'] # Если именовать возрасные группы.\n",
    ")\n",
    "ax.set(ylabel='Opened accounts, %', xlabel='Age group')\n",
    "ax.set_title('Percent of opened accounts in different age groups\\n', \n",
    "             fontsize=16);"
   ]
  },
  {
   "cell_type": "code",
   "execution_count": 22,
   "id": "11a33342",
   "metadata": {},
   "outputs": [
    {
     "data": {
      "text/plain": [
       "'0.11.2'"
      ]
     },
     "execution_count": 22,
     "metadata": {},
     "output_type": "execute_result"
    }
   ],
   "source": [
    "sns.__version__ # 0.11.2"
   ]
  },
  {
   "cell_type": "markdown",
   "id": "f0d74d1b",
   "metadata": {},
   "source": [
    "Более склонны окрывать депозит, чем отказываться от него 1-я и 5-я возрастные группы."
   ]
  },
  {
   "cell_type": "markdown",
   "id": "0841c685",
   "metadata": {},
   "source": [
    "Построим визуализации для открывших и неоткрывших депозит в зависимости от семейного статуса."
   ]
  },
  {
   "cell_type": "code",
   "execution_count": 23,
   "id": "0d84a9e1",
   "metadata": {},
   "outputs": [
    {
     "data": {
      "image/png": "[encoded data removed]",
      "text/plain": [
       "<Figure size 432x288 with 1 Axes>"
      ]
     },
     "metadata": {
      "needs_background": "light"
     },
     "output_type": "display_data"
    }
   ],
   "source": [
    "ax = sns.countplot(data=data_1, x='marital', hue='deposit')\n",
    "ax.set(xlabel='Marital status', ylabel='Number of clients')\n",
    "ax.set_title('Marital status\\n', fontsize=16);"
   ]
  },
  {
   "cell_type": "markdown",
   "id": "e77e7a77",
   "metadata": {},
   "source": [
    "Наиболее многочисленная группа - семейные, наиболее малочисленная - разведенные. Неженатые/незамужние более склонны к открытию депозита, чем семейные."
   ]
  },
  {
   "cell_type": "markdown",
   "id": "bb3608a8",
   "metadata": {},
   "source": [
    "Построим визуализацию для открывших и неоткрывших депозит в зависимости от образования."
   ]
  },
  {
   "cell_type": "code",
   "execution_count": 24,
   "id": "16333967",
   "metadata": {},
   "outputs": [
    {
     "data": {
      "image/png": "[encoded data removed]",
      "text/plain": [
       "<Figure size 432x288 with 1 Axes>"
      ]
     },
     "metadata": {
      "needs_background": "light"
     },
     "output_type": "display_data"
    }
   ],
   "source": [
    "ax = sns.countplot(data=data_1, x='education', hue='deposit',\n",
    "              order=['primary', 'secondary', 'tertiary'])\n",
    "ax.set(xlabel='Education', ylabel='Number of clients')\n",
    "ax.set_title('Education\\n', fontsize=16);"
   ]
  },
  {
   "cell_type": "markdown",
   "id": "3e3d2c77",
   "metadata": {},
   "source": [
    "У большинства клиентов среднее образование. Более склонны к открытию депозита клиенты с высшим образованием."
   ]
  },
  {
   "cell_type": "markdown",
   "id": "51f676c6",
   "metadata": {},
   "source": [
    "Построим визуализацию для открывших и неоткрывших депозит в зависимости от вида профессиональной занятости."
   ]
  },
  {
   "cell_type": "code",
   "execution_count": 25,
   "id": "738224f8",
   "metadata": {},
   "outputs": [
    {
     "data": {
      "image/png": "[encoded data removed]",
      "text/plain": [
       "<Figure size 432x288 with 1 Axes>"
      ]
     },
     "metadata": {
      "needs_background": "light"
     },
     "output_type": "display_data"
    }
   ],
   "source": [
    "ax= sns.countplot(data=data_1, x='job', hue='deposit', \n",
    "              order=data_1['job'].value_counts().index)\n",
    "ax.tick_params(labelrotation=70)\n",
    "ax.set(xlabel='Job', ylabel='Number of clients')\n",
    "ax.set_title('Job\\n', fontsize=16);"
   ]
  },
  {
   "cell_type": "markdown",
   "id": "c8c1b161",
   "metadata": {},
   "source": [
    "Выделяется малый процент открытия депозитов у \"синих воротничков\" и большой - у пенсионеров и студентов. Важно отметить, что при этом \"синие воротнички\" составляют вторую по численности категорию клиентов (стоить подумать о способах привлечения этой категории)."
   ]
  },
  {
   "cell_type": "markdown",
   "id": "a521e204",
   "metadata": {},
   "source": [
    "Построим сводную таблицу, чтобы определить люди с каким образованием и семейным статусом наиболее многочисленны (если рассматривать тех, кто открыл депозит)"
   ]
  },
  {
   "cell_type": "code",
   "execution_count": 26,
   "id": "35ab0413",
   "metadata": {},
   "outputs": [
    {
     "data": {
      "text/html": [
       "<div>\n",
       "<style scoped>\n",
       "    .dataframe tbody tr th:only-of-type {\n",
       "        vertical-align: middle;\n",
       "    }\n",
       "\n",
       "    .dataframe tbody tr th {\n",
       "        vertical-align: top;\n",
       "    }\n",
       "\n",
       "    .dataframe thead th {\n",
       "        text-align: right;\n",
       "    }\n",
       "</style>\n",
       "<table border=\"1\" class=\"dataframe\">\n",
       "  <thead>\n",
       "    <tr style=\"text-align: right;\">\n",
       "      <th>marital</th>\n",
       "      <th>divorced</th>\n",
       "      <th>married</th>\n",
       "      <th>single</th>\n",
       "    </tr>\n",
       "    <tr>\n",
       "      <th>education</th>\n",
       "      <th></th>\n",
       "      <th></th>\n",
       "      <th></th>\n",
       "    </tr>\n",
       "  </thead>\n",
       "  <tbody>\n",
       "    <tr>\n",
       "      <th>primary</th>\n",
       "      <td>96</td>\n",
       "      <td>339</td>\n",
       "      <td>82</td>\n",
       "    </tr>\n",
       "    <tr>\n",
       "      <th>secondary</th>\n",
       "      <td>283</td>\n",
       "      <td>1289</td>\n",
       "      <td>879</td>\n",
       "    </tr>\n",
       "    <tr>\n",
       "      <th>tertiary</th>\n",
       "      <td>174</td>\n",
       "      <td>784</td>\n",
       "      <td>755</td>\n",
       "    </tr>\n",
       "  </tbody>\n",
       "</table>\n",
       "</div>"
      ],
      "text/plain": [
       "marital    divorced  married  single\n",
       "education                           \n",
       "primary          96      339      82\n",
       "secondary       283     1289     879\n",
       "tertiary        174      784     755"
      ]
     },
     "metadata": {},
     "output_type": "display_data"
    },
    {
     "data": {
      "text/html": [
       "<div>\n",
       "<style scoped>\n",
       "    .dataframe tbody tr th:only-of-type {\n",
       "        vertical-align: middle;\n",
       "    }\n",
       "\n",
       "    .dataframe tbody tr th {\n",
       "        vertical-align: top;\n",
       "    }\n",
       "\n",
       "    .dataframe thead th {\n",
       "        text-align: right;\n",
       "    }\n",
       "</style>\n",
       "<table border=\"1\" class=\"dataframe\">\n",
       "  <thead>\n",
       "    <tr style=\"text-align: right;\">\n",
       "      <th>marital</th>\n",
       "      <th>divorced</th>\n",
       "      <th>married</th>\n",
       "      <th>single</th>\n",
       "    </tr>\n",
       "    <tr>\n",
       "      <th>education</th>\n",
       "      <th></th>\n",
       "      <th></th>\n",
       "      <th></th>\n",
       "    </tr>\n",
       "  </thead>\n",
       "  <tbody>\n",
       "    <tr>\n",
       "      <th>primary</th>\n",
       "      <td>91</td>\n",
       "      <td>641</td>\n",
       "      <td>100</td>\n",
       "    </tr>\n",
       "    <tr>\n",
       "      <th>secondary</th>\n",
       "      <td>370</td>\n",
       "      <td>1830</td>\n",
       "      <td>866</td>\n",
       "    </tr>\n",
       "    <tr>\n",
       "      <th>tertiary</th>\n",
       "      <td>163</td>\n",
       "      <td>832</td>\n",
       "      <td>531</td>\n",
       "    </tr>\n",
       "  </tbody>\n",
       "</table>\n",
       "</div>"
      ],
      "text/plain": [
       "marital    divorced  married  single\n",
       "education                           \n",
       "primary          91      641     100\n",
       "secondary       370     1830     866\n",
       "tertiary        163      832     531"
      ]
     },
     "metadata": {},
     "output_type": "display_data"
    },
    {
     "data": {
      "image/png": "[encoded data removed]",
      "text/plain": [
       "<Figure size 648x288 with 4 Axes>"
      ]
     },
     "metadata": {
      "needs_background": "light"
     },
     "output_type": "display_data"
    }
   ],
   "source": [
    "success = data_1[data_1['deposit']=='yes']\n",
    "fail = data_1[data_1['deposit']=='no']\n",
    "success_pivot = success.groupby(\n",
    "    ['education', 'marital'])['marital'].count().unstack()\n",
    "## or:\n",
    "#success_pivot = pd.pivot_table(success,     \n",
    "#    index='education', columns='marital', values='age', aggfunc='count')  \n",
    "fail_pivot = fail.groupby(\n",
    "    ['education', 'marital'])['marital'].count().unstack()\n",
    "\n",
    "display(success_pivot, fail_pivot)\n",
    "\n",
    "fig, ax = plt.subplots( 1, 2, figsize=(9,4))\n",
    "sns.heatmap(success_pivot, ax=ax[0])\n",
    "sns.heatmap(fail_pivot, ax=ax[1])\n",
    "ax[0].set_title('Account is opened')\n",
    "ax[1].set_title('Account is not opened')\n",
    "ax[0].set(xlabel='Marital status', ylabel='Education')\n",
    "ax[1].set(xlabel='Marital status', ylabel='Education')\n",
    "plt.suptitle('Education - marital status heatmaps', fontsize=16)\n",
    "plt.tight_layout()"
   ]
  },
  {
   "cell_type": "markdown",
   "id": "43a5437e",
   "metadata": {},
   "source": [
    "В обеих категориях (открывшие и неоткрывшие депозит) преобладают семейные клиенты со средним образованием."
   ]
  },
  {
   "cell_type": "markdown",
   "id": "dfd805c0",
   "metadata": {},
   "source": [
    "## Часть 3: преобразование данных"
   ]
  },
  {
   "cell_type": "markdown",
   "id": "e44e715b",
   "metadata": {},
   "source": [
    "Закодируем признак education."
   ]
  },
  {
   "cell_type": "code",
   "execution_count": 27,
   "id": "1e815773",
   "metadata": {},
   "outputs": [],
   "source": [
    "# Порядковое кодирование\n",
    "# 0 - primary, 1 - secondary, 2 - tertiary\n",
    "label_enc = preprocessing.LabelEncoder()\n",
    "data_1['education'] = label_enc.fit_transform(data_1['education'])"
   ]
  },
  {
   "cell_type": "markdown",
   "id": "8c93e73d",
   "metadata": {},
   "source": [
    "Преобразуем бинарные переменные в представление из нулей и единиц."
   ]
  },
  {
   "cell_type": "code",
   "execution_count": 28,
   "id": "626a5762",
   "metadata": {},
   "outputs": [],
   "source": [
    "data_1['default_BIN'] = data_1['default'].apply(lambda x: 1 if x=='yes' else 0)\n",
    "data_1['housing_BIN'] = data_1['housing'].apply(lambda x: 1 if x=='yes' else 0)\n",
    "data_1['loan_BIN'] = data_1['loan'].apply(lambda x: 1 if x=='yes' else 0)\n",
    "data_1['deposit'] = data_1['deposit'].apply(lambda x: 1 if x=='yes' else 0) # Преобразуем целевую переменную тоже (на будущее)."
   ]
  },
  {
   "cell_type": "markdown",
   "id": "c40dc02a",
   "metadata": {},
   "source": [
    "Теперь нам необходимо преобразовать номинальные переменные, которые могут принимать несколько различных значений. Это следующие переменные:\n",
    "\n",
    "* 'job';\n",
    "* 'marital';\n",
    "* 'contact';\n",
    "* 'month';\n",
    "* 'poutcome'.\n",
    "\n",
    "Создадим для них dummy-переменные и добавим их в набор данных."
   ]
  },
  {
   "cell_type": "code",
   "execution_count": 29,
   "id": "b996883f",
   "metadata": {},
   "outputs": [],
   "source": [
    "dummies = pd.get_dummies(data_1[[\n",
    "    'job', 'marital', 'contact', 'month', 'poutcome']])\n",
    "data = pd.concat([data_1, dummies], axis=1)"
   ]
  },
  {
   "cell_type": "code",
   "execution_count": 30,
   "id": "7821e331",
   "metadata": {},
   "outputs": [
    {
     "data": {
      "text/plain": [
       "(10105, 54)"
      ]
     },
     "execution_count": 30,
     "metadata": {},
     "output_type": "execute_result"
    }
   ],
   "source": [
    "data.shape"
   ]
  },
  {
   "cell_type": "code",
   "execution_count": 31,
   "id": "504ee3ee",
   "metadata": {},
   "outputs": [
    {
     "name": "stdout",
     "output_type": "stream",
     "text": [
      "<class 'pandas.core.frame.DataFrame'>\n",
      "Int64Index: 10105 entries, 0 to 11161\n",
      "Data columns (total 54 columns):\n",
      " #   Column             Non-Null Count  Dtype  \n",
      "---  ------             --------------  -----  \n",
      " 0   age                10105 non-null  int64  \n",
      " 1   job                10105 non-null  object \n",
      " 2   marital            10105 non-null  object \n",
      " 3   education          10105 non-null  int32  \n",
      " 4   default            10105 non-null  object \n",
      " 5   balance            10105 non-null  float64\n",
      " 6   housing            10105 non-null  object \n",
      " 7   loan               10105 non-null  object \n",
      " 8   contact            10105 non-null  object \n",
      " 9   day                10105 non-null  int64  \n",
      " 10  month              10105 non-null  object \n",
      " 11  duration           10105 non-null  int64  \n",
      " 12  campaign           10105 non-null  int64  \n",
      " 13  pdays              10105 non-null  int64  \n",
      " 14  previous           10105 non-null  int64  \n",
      " 15  poutcome           10105 non-null  object \n",
      " 16  deposit            10105 non-null  int64  \n",
      " 17  age_group          10105 non-null  int32  \n",
      " 18  default_BIN        10105 non-null  int64  \n",
      " 19  housing_BIN        10105 non-null  int64  \n",
      " 20  loan_BIN           10105 non-null  int64  \n",
      " 21  job_admin.         10105 non-null  uint8  \n",
      " 22  job_blue-collar    10105 non-null  uint8  \n",
      " 23  job_entrepreneur   10105 non-null  uint8  \n",
      " 24  job_housemaid      10105 non-null  uint8  \n",
      " 25  job_management     10105 non-null  uint8  \n",
      " 26  job_retired        10105 non-null  uint8  \n",
      " 27  job_self-employed  10105 non-null  uint8  \n",
      " 28  job_services       10105 non-null  uint8  \n",
      " 29  job_student        10105 non-null  uint8  \n",
      " 30  job_technician     10105 non-null  uint8  \n",
      " 31  job_unemployed     10105 non-null  uint8  \n",
      " 32  marital_divorced   10105 non-null  uint8  \n",
      " 33  marital_married    10105 non-null  uint8  \n",
      " 34  marital_single     10105 non-null  uint8  \n",
      " 35  contact_cellular   10105 non-null  uint8  \n",
      " 36  contact_telephone  10105 non-null  uint8  \n",
      " 37  contact_unknown    10105 non-null  uint8  \n",
      " 38  month_apr          10105 non-null  uint8  \n",
      " 39  month_aug          10105 non-null  uint8  \n",
      " 40  month_dec          10105 non-null  uint8  \n",
      " 41  month_feb          10105 non-null  uint8  \n",
      " 42  month_jan          10105 non-null  uint8  \n",
      " 43  month_jul          10105 non-null  uint8  \n",
      " 44  month_jun          10105 non-null  uint8  \n",
      " 45  month_mar          10105 non-null  uint8  \n",
      " 46  month_may          10105 non-null  uint8  \n",
      " 47  month_nov          10105 non-null  uint8  \n",
      " 48  month_oct          10105 non-null  uint8  \n",
      " 49  month_sep          10105 non-null  uint8  \n",
      " 50  poutcome_failure   10105 non-null  uint8  \n",
      " 51  poutcome_other     10105 non-null  uint8  \n",
      " 52  poutcome_success   10105 non-null  uint8  \n",
      " 53  poutcome_unknown   10105 non-null  uint8  \n",
      "dtypes: float64(1), int32(2), int64(10), object(8), uint8(33)\n",
      "memory usage: 1.9+ MB\n"
     ]
    }
   ],
   "source": [
    "data.info()"
   ]
  },
  {
   "cell_type": "markdown",
   "id": "613c0d3e",
   "metadata": {},
   "source": [
    "Удаляем преобразованные признаки типа object."
   ]
  },
  {
   "cell_type": "code",
   "execution_count": 32,
   "id": "13d2438d",
   "metadata": {},
   "outputs": [],
   "source": [
    "obj_cols = data.select_dtypes('object').columns\n",
    "data.drop(columns=obj_cols, inplace=True)"
   ]
  },
  {
   "cell_type": "code",
   "execution_count": 33,
   "id": "0ddf9d59",
   "metadata": {},
   "outputs": [
    {
     "name": "stdout",
     "output_type": "stream",
     "text": [
      "<class 'pandas.core.frame.DataFrame'>\n",
      "Int64Index: 10105 entries, 0 to 11161\n",
      "Data columns (total 46 columns):\n",
      " #   Column             Non-Null Count  Dtype  \n",
      "---  ------             --------------  -----  \n",
      " 0   age                10105 non-null  int64  \n",
      " 1   education          10105 non-null  int32  \n",
      " 2   balance            10105 non-null  float64\n",
      " 3   day                10105 non-null  int64  \n",
      " 4   duration           10105 non-null  int64  \n",
      " 5   campaign           10105 non-null  int64  \n",
      " 6   pdays              10105 non-null  int64  \n",
      " 7   previous           10105 non-null  int64  \n",
      " 8   deposit            10105 non-null  int64  \n",
      " 9   age_group          10105 non-null  int32  \n",
      " 10  default_BIN        10105 non-null  int64  \n",
      " 11  housing_BIN        10105 non-null  int64  \n",
      " 12  loan_BIN           10105 non-null  int64  \n",
      " 13  job_admin.         10105 non-null  uint8  \n",
      " 14  job_blue-collar    10105 non-null  uint8  \n",
      " 15  job_entrepreneur   10105 non-null  uint8  \n",
      " 16  job_housemaid      10105 non-null  uint8  \n",
      " 17  job_management     10105 non-null  uint8  \n",
      " 18  job_retired        10105 non-null  uint8  \n",
      " 19  job_self-employed  10105 non-null  uint8  \n",
      " 20  job_services       10105 non-null  uint8  \n",
      " 21  job_student        10105 non-null  uint8  \n",
      " 22  job_technician     10105 non-null  uint8  \n",
      " 23  job_unemployed     10105 non-null  uint8  \n",
      " 24  marital_divorced   10105 non-null  uint8  \n",
      " 25  marital_married    10105 non-null  uint8  \n",
      " 26  marital_single     10105 non-null  uint8  \n",
      " 27  contact_cellular   10105 non-null  uint8  \n",
      " 28  contact_telephone  10105 non-null  uint8  \n",
      " 29  contact_unknown    10105 non-null  uint8  \n",
      " 30  month_apr          10105 non-null  uint8  \n",
      " 31  month_aug          10105 non-null  uint8  \n",
      " 32  month_dec          10105 non-null  uint8  \n",
      " 33  month_feb          10105 non-null  uint8  \n",
      " 34  month_jan          10105 non-null  uint8  \n",
      " 35  month_jul          10105 non-null  uint8  \n",
      " 36  month_jun          10105 non-null  uint8  \n",
      " 37  month_mar          10105 non-null  uint8  \n",
      " 38  month_may          10105 non-null  uint8  \n",
      " 39  month_nov          10105 non-null  uint8  \n",
      " 40  month_oct          10105 non-null  uint8  \n",
      " 41  month_sep          10105 non-null  uint8  \n",
      " 42  poutcome_failure   10105 non-null  uint8  \n",
      " 43  poutcome_other     10105 non-null  uint8  \n",
      " 44  poutcome_success   10105 non-null  uint8  \n",
      " 45  poutcome_unknown   10105 non-null  uint8  \n",
      "dtypes: float64(1), int32(2), int64(10), uint8(33)\n",
      "memory usage: 1.3 MB\n"
     ]
    }
   ],
   "source": [
    "data.info()"
   ]
  },
  {
   "cell_type": "markdown",
   "id": "9a23e318",
   "metadata": {},
   "source": [
    "Построим корреляционную матрицу и оценим данные на предмет наличия мультиколлинеарности."
   ]
  },
  {
   "cell_type": "code",
   "execution_count": 34,
   "id": "1c884c1a",
   "metadata": {},
   "outputs": [
    {
     "data": {
      "image/png": "[encoded data removed]",
      "text/plain": [
       "<Figure size 792x648 with 2 Axes>"
      ]
     },
     "metadata": {
      "needs_background": "light"
     },
     "output_type": "display_data"
    }
   ],
   "source": [
    "# Корреляционная матрица \n",
    "# Используем корреляцию Кендала - распределение признака может быть \n",
    "# не нормальным, связь признаков не обязательно является монотонной функцией\n",
    "corr_matrix = data.corr(method='kendall')\n",
    "\n",
    "# Тепловая карта\n",
    "fig = plt.figure(figsize=(11,9))\n",
    "sns.heatmap(corr_matrix,  vmin=-1, vmax=1);"
   ]
  },
  {
   "cell_type": "markdown",
   "id": "8b5ddbd1",
   "metadata": {},
   "source": [
    "Вычисляем мультиколлинеарные признаки, порог 0.9 (порог в соответствии с требованиями задания).\n",
    "Использую заготовленную функцию определения мультиколлинеарных признаков."
   ]
  },
  {
   "cell_type": "code",
   "execution_count": 35,
   "id": "f910ca92",
   "metadata": {},
   "outputs": [
    {
     "data": {
      "text/plain": [
       "previous -- poutcome_unknown   -0.938271\n",
       "pdays -- poutcome_unknown      -0.925560\n",
       "dtype: float64"
      ]
     },
     "execution_count": 35,
     "metadata": {},
     "output_type": "execute_result"
    }
   ],
   "source": [
    "def get_correlated(corr_matrix, thres=0.7):\n",
    "    \"\"\"Getting correlated pairs from a correlation matrix \n",
    "       with correlation coefficients higher than the threshold\n",
    "\n",
    "    Args:\n",
    "        corr_matrix (pandas DataFrame): correlation matrix (e.g., from df.corr())\n",
    "        thres (float, optional): threshold. Defaults to 0.7 (i.e., coeff > 0.7 or coeff < -0.7).\n",
    "\n",
    "    Returns:\n",
    "        pandas Series: correlated pairs and correlation coefficients\n",
    "    \"\"\"\n",
    "    \n",
    "    correlated_pairs = {}\n",
    "    \n",
    "    for col in corr_matrix.columns:\n",
    "        positive_filter = corr_matrix[col] >= thres\n",
    "        negative_filter = corr_matrix[col] <= -thres\n",
    "        match_series = corr_matrix[col][positive_filter | negative_filter]\n",
    "        for match in match_series.index:\n",
    "            if match != col and match + ' -- ' + col not in correlated_pairs.keys():\n",
    "                correlated_pairs.update({col + ' -- ' + match: match_series[match]})\n",
    "   \n",
    "    return pd.Series(correlated_pairs).sort_values()\n",
    "\n",
    "get_correlated(corr_matrix, thres=0.9)"
   ]
  },
  {
   "cell_type": "markdown",
   "id": "a33833a0",
   "metadata": {},
   "source": [
    "Большой коэффициент корреляции между previous, poutcome_unknown и pdays обусловлен сильной несбалансированностью каждого из признаков - большинство экземпляров показывают одно и то же значение признака:"
   ]
  },
  {
   "cell_type": "code",
   "execution_count": 36,
   "id": "ee4b9f9c",
   "metadata": {},
   "outputs": [
    {
     "data": {
      "text/plain": [
       "1    7570\n",
       "0    2535\n",
       "Name: poutcome_unknown, dtype: int64"
      ]
     },
     "metadata": {},
     "output_type": "display_data"
    },
    {
     "data": {
      "text/plain": [
       "0    7568\n",
       "1     796\n",
       "2     612\n",
       "Name: previous, dtype: int64"
      ]
     },
     "metadata": {},
     "output_type": "display_data"
    },
    {
     "data": {
      "text/plain": [
       "-1      7568\n",
       " 92       88\n",
       " 182      77\n",
       "Name: pdays, dtype: int64"
      ]
     },
     "metadata": {},
     "output_type": "display_data"
    }
   ],
   "source": [
    "display(data['poutcome_unknown'].value_counts())\n",
    "display(data['previous'].value_counts()[:3])\n",
    "display(data['pdays'].value_counts()[:3])"
   ]
  },
  {
   "cell_type": "markdown",
   "id": "b9793e33",
   "metadata": {},
   "source": [
    "Корреляция с целевым признаком."
   ]
  },
  {
   "cell_type": "code",
   "execution_count": 37,
   "id": "e56d978d",
   "metadata": {},
   "outputs": [
    {
     "data": {
      "image/png": "[encoded data removed]",
      "text/plain": [
       "<Figure size 1440x432 with 1 Axes>"
      ]
     },
     "metadata": {
      "needs_background": "light"
     },
     "output_type": "display_data"
    }
   ],
   "source": [
    "fig = plt.figure(figsize=(20,6))\n",
    "plot_data = corr_matrix.drop('deposit')  # Убираем корреляцию \"сам с собой\"\n",
    "feature_order = abs(plot_data['deposit']).sort_values(ascending=False).index\n",
    "ax = sns.barplot(\n",
    "    data=plot_data.reset_index(), x='index', y='deposit',\n",
    "    order = feature_order)\n",
    "plt.xticks(rotation=70)\n",
    "ax.set(xlabel='Feature', ylabel='Kendall correlation coefficient')\n",
    "ax.set_title('Correlation with the target feature (deposit)\\n', fontsize=16);"
   ]
  },
  {
   "cell_type": "markdown",
   "id": "b5b4c1a5",
   "metadata": {},
   "source": [
    "Теперь определяем целевую переменную и предикторы, а также разделим выборку на обучающую и тестовую.\n",
    "\n",
    "При разбиении зададим параметр random_state = 42, а размер тестовой выборки возьмём за 0.33. Добавим аргумент, определяющий сохранение соотношений целевого признака."
   ]
  },
  {
   "cell_type": "code",
   "execution_count": 38,
   "id": "79f3e432",
   "metadata": {},
   "outputs": [],
   "source": [
    "X = data.drop(['deposit'], axis=1)\n",
    "y = data['deposit']\n",
    " \n",
    "X_train, X_test, y_train, y_test = train_test_split(X, y, stratify=y, random_state = 42, test_size = 0.33)"
   ]
  },
  {
   "cell_type": "code",
   "execution_count": 39,
   "id": "e3a097a4",
   "metadata": {},
   "outputs": [
    {
     "name": "stdout",
     "output_type": "stream",
     "text": [
      "Train shape: (6770, 45)\n",
      "Test shape: (3335, 45)\n"
     ]
    }
   ],
   "source": [
    "print('Train shape: {}'.format(X_train.shape))\n",
    "print('Test shape: {}'.format(X_test.shape))"
   ]
  },
  {
   "cell_type": "markdown",
   "id": "2e381a4f",
   "metadata": {},
   "source": [
    "С помощью SelectKBest отберём 15 наиболее подходящих признаков. Отбор реализуем по обучающей выборке, используя параметр score_func = f_classif."
   ]
  },
  {
   "cell_type": "code",
   "execution_count": 40,
   "id": "0f6e03e0",
   "metadata": {},
   "outputs": [
    {
     "name": "stdout",
     "output_type": "stream",
     "text": [
      "Selected features:\n",
      " ['balance' 'duration' 'campaign' 'pdays' 'previous' 'housing_BIN'\n",
      " 'loan_BIN' 'contact_cellular' 'contact_unknown' 'month_mar' 'month_may'\n",
      " 'month_oct' 'month_sep' 'poutcome_success' 'poutcome_unknown']\n"
     ]
    }
   ],
   "source": [
    "selector = SelectKBest(score_func=f_classif, k=15)\n",
    "selector.fit(X_train, y_train)\n",
    "selected_cols = selector.get_feature_names_out()\n",
    "print(f'Selected features:\\n {selected_cols}')\n",
    "X_train = selector.transform(X_train)\n",
    "X_test =selector.transform(X_test)"
   ]
  },
  {
   "cell_type": "markdown",
   "id": "60132ef3",
   "metadata": {},
   "source": [
    "Нормализуем данные с помощью minmaxsxaler."
   ]
  },
  {
   "cell_type": "code",
   "execution_count": 41,
   "id": "e91b06f3",
   "metadata": {},
   "outputs": [],
   "source": [
    "scaler = preprocessing.MinMaxScaler()\n",
    "scaler.fit(X_train)\n",
    "X_train = scaler.transform(X_train)\n",
    "X_test = scaler.transform(X_test)"
   ]
  },
  {
   "cell_type": "markdown",
   "id": "0894c632",
   "metadata": {},
   "source": [
    "# Часть 4: Решение задачи классификации: логистическая регрессия и решающие деревья"
   ]
  },
  {
   "cell_type": "markdown",
   "id": "41b8ff06",
   "metadata": {},
   "source": [
    "Для начала реализуем самый простой алгоритм, который вам известен — логистическую регрессию. В качестве алгоритма оптимизации будем использовать 'sag', в качестве значения параметра random_state возьмём число 42 и запустим 1000 итераций.\n",
    "\n",
    "Оценим качество модели на тестовой выборке."
   ]
  },
  {
   "cell_type": "code",
   "execution_count": 42,
   "id": "8acc0166",
   "metadata": {},
   "outputs": [
    {
     "name": "stdout",
     "output_type": "stream",
     "text": [
      "Обучающая выборка:\n",
      "              precision    recall  f1-score   support\n",
      "\n",
      "           0      0.807     0.876     0.840      3634\n",
      "           1      0.840     0.758     0.797      3136\n",
      "\n",
      "    accuracy                          0.821      6770\n",
      "   macro avg      0.824     0.817     0.818      6770\n",
      "weighted avg      0.822     0.821     0.820      6770\n",
      "\n",
      "Тестовая выборка:\n",
      "              precision    recall  f1-score   support\n",
      "\n",
      "           0      0.790     0.866     0.826      1790\n",
      "           1      0.825     0.733     0.776      1545\n",
      "\n",
      "    accuracy                          0.804      3335\n",
      "   macro avg      0.807     0.799     0.801      3335\n",
      "weighted avg      0.806     0.804     0.803      3335\n",
      "\n"
     ]
    }
   ],
   "source": [
    "logregr = linear_model.LogisticRegression(\n",
    "    random_state=42, \n",
    "    solver='sag', \n",
    "    max_iter=1000\n",
    ")\n",
    "logregr.fit(X_train, y_train)\n",
    "y_train_pred = logregr.predict(X_train)\n",
    "y_test_pred = logregr.predict(X_test)\n",
    "print('Обучающая выборка:\\n{}'.format(\n",
    "    metrics.classification_report(y_train, y_train_pred, digits=3)))\n",
    "print('Тестовая выборка:\\n{}'.format(\n",
    "    metrics.classification_report(y_test, y_test_pred, digits=3)))"
   ]
  },
  {
   "cell_type": "markdown",
   "id": "9f47e65d",
   "metadata": {},
   "source": [
    "Простой алгоритм обучен. Теперь давайте обучим ещё один алгоритм — решающие деревья. В качестве параметров для начала возьмём следующие:\n",
    "\n",
    "* criterion = 'entropy';\n",
    "* random_state = 42.\n",
    "\n",
    "Остальные параметры оставьте по умолчанию."
   ]
  },
  {
   "cell_type": "code",
   "execution_count": 43,
   "id": "e90563c8",
   "metadata": {},
   "outputs": [
    {
     "name": "stdout",
     "output_type": "stream",
     "text": [
      "Обучающая выборка:\n",
      "              precision    recall  f1-score   support\n",
      "\n",
      "           0      0.999     1.000     1.000      3634\n",
      "           1      1.000     0.999     1.000      3136\n",
      "\n",
      "    accuracy                          1.000      6770\n",
      "   macro avg      1.000     1.000     1.000      6770\n",
      "weighted avg      1.000     1.000     1.000      6770\n",
      "\n",
      "Тестовая выборка:\n",
      "              precision    recall  f1-score   support\n",
      "\n",
      "           0      0.773     0.764     0.768      1790\n",
      "           1      0.730     0.740     0.735      1545\n",
      "\n",
      "    accuracy                          0.753      3335\n",
      "   macro avg      0.751     0.752     0.752      3335\n",
      "weighted avg      0.753     0.753     0.753      3335\n",
      "\n"
     ]
    }
   ],
   "source": [
    "dtree = tree.DecisionTreeClassifier(criterion='entropy', random_state=42)\n",
    "dtree.fit(X_train, y_train)\n",
    "y_train_pred = dtree.predict(X_train)\n",
    "y_test_pred = dtree.predict(X_test)\n",
    "print('Обучающая выборка:\\n{}'.format(\n",
    "    metrics.classification_report(y_train, y_train_pred, digits=3)))\n",
    "print('Тестовая выборка:\\n{}'.format(\n",
    "    metrics.classification_report(y_test, y_test_pred, digits=3)))"
   ]
  },
  {
   "cell_type": "markdown",
   "id": "29b7e0ba",
   "metadata": {},
   "source": [
    "Задание: \"Переберите различные максимальные глубины деревьев и найдите глубину дерева, для которой будет максимальное значение метрики accuracy, но при этом ещё не будет наблюдаться переобучения (т. е. не будет расти качество на обучающей выборке при неизменном качестве на тестовой).\"\n",
    "\n",
    "В соответствии с условиями задания подбор параметра идет на тестовой выборке. В реальности ручной подбор гиперпараметра следует делать кросс-валидацией (например с помощью validation_curve() из sklearn) или на отдельной валидационной выборке."
   ]
  },
  {
   "cell_type": "code",
   "execution_count": 44,
   "id": "c91a588b",
   "metadata": {},
   "outputs": [
    {
     "name": "stdout",
     "output_type": "stream",
     "text": [
      "Максимальная точность на тесте: 0.804\n",
      "Оптимальная глубина дерева: 6\n"
     ]
    },
    {
     "data": {
      "image/png": "[encoded data removed]",
      "text/plain": [
       "<Figure size 468x288 with 1 Axes>"
      ]
     },
     "metadata": {
      "needs_background": "light"
     },
     "output_type": "display_data"
    }
   ],
   "source": [
    "# Перебираем значения max_deph \n",
    "# Считаем accuracy на тренировочной и тестовой выборках\n",
    "train_scores = []\n",
    "test_scores = []\n",
    "for max_depth in range(1,35):\n",
    "    dtree = tree.DecisionTreeClassifier(\n",
    "        criterion='entropy', \n",
    "        random_state=42, \n",
    "        max_depth=max_depth\n",
    "    )\n",
    "    dtree.fit(X_train, y_train)\n",
    "    y_train_pred = dtree.predict(X_train)\n",
    "    y_test_pred = dtree.predict(X_test)\n",
    "    train_scores.append(metrics.accuracy_score(y_train, y_train_pred))\n",
    "    test_scores.append(metrics.accuracy_score(y_test, y_test_pred))\n",
    "    \n",
    "# Рисунок\n",
    "max_depth = list(range(1,35))\n",
    "fig = plt.figure(figsize=(6.5, 4))\n",
    "ax = sns.lineplot(x=max_depth, y=train_scores, label='Train sample')\n",
    "sns.lineplot(x=max_depth, y=test_scores, label='Test sample')\n",
    "ax.set(xlabel='Tree maximum depth', ylabel='Accuracy')\n",
    "ax.set_title('Validation curve\\n', fontsize=16);\n",
    "\n",
    "# Оптимальный параметр\n",
    "print(f'Максимальная точность на тесте: {np.amax(test_scores):.3f}')\n",
    "print(f'Оптимальная глубина дерева: {np.argmax(test_scores)}')"
   ]
  },
  {
   "cell_type": "markdown",
   "id": "fe823c18",
   "metadata": {},
   "source": [
    "Подберём оптимальные параметры с помощью gridsearch."
   ]
  },
  {
   "cell_type": "code",
   "execution_count": 45,
   "id": "63574943",
   "metadata": {},
   "outputs": [
    {
     "name": "stdout",
     "output_type": "stream",
     "text": [
      "Наилучшие значения гиперпараметров: {'max_depth': 7, 'min_samples_split': 10}\n",
      "Обучающая выборка:\n",
      "              precision    recall  f1-score   support\n",
      "\n",
      "           0      0.820     0.857     0.838      3634\n",
      "           1      0.825     0.782     0.803      3136\n",
      "\n",
      "    accuracy                          0.822      6770\n",
      "   macro avg      0.823     0.820     0.821      6770\n",
      "weighted avg      0.822     0.822     0.822      6770\n",
      "\n",
      "Тестовая выборка:\n",
      "              precision    recall  f1-score   support\n",
      "\n",
      "           0      0.803     0.840     0.821      1790\n",
      "           1      0.804     0.761     0.782      1545\n",
      "\n",
      "    accuracy                          0.803      3335\n",
      "   macro avg      0.803     0.800     0.801      3335\n",
      "weighted avg      0.803     0.803     0.803      3335\n",
      "\n"
     ]
    }
   ],
   "source": [
    "# Сетка параметров - по условию задания\n",
    "estimator = tree.DecisionTreeClassifier(\n",
    "    criterion='entropy', random_state=42)\n",
    "\n",
    "param_grid = {'min_samples_split': [2, 5, 7, 10], 'max_depth': [3,5,7]}\n",
    "\n",
    "gsearch = GridSearchCV(\n",
    "    estimator=estimator, \n",
    "    param_grid=param_grid, \n",
    "    scoring='f1'\n",
    ")\n",
    "\n",
    "gsearch.fit(X_train, y_train)\n",
    "\n",
    "y_train_pred = gsearch.predict(X_train)\n",
    "y_test_pred = gsearch.predict(X_test)\n",
    "\n",
    "print(f'Наилучшие значения гиперпараметров: {gsearch.best_params_}')\n",
    "print('Обучающая выборка:\\n{}'.format(\n",
    "    metrics.classification_report(y_train, y_train_pred, digits=3)))\n",
    "print('Тестовая выборка:\\n{}'.format(\n",
    "    metrics.classification_report(y_test, y_test_pred, digits=3)))"
   ]
  },
  {
   "cell_type": "markdown",
   "id": "ed0fc831",
   "metadata": {},
   "source": [
    "# Часть 5: Решение задачи классификации: ансамбли моделей и построение прогноза"
   ]
  },
  {
   "cell_type": "markdown",
   "id": "f9e36ff2",
   "metadata": {},
   "source": [
    "Обучим случайный лес со следующими параметрами:\n",
    "\n",
    "* n_estimators = 100;\n",
    "* criterion = 'gini';\n",
    "* min_samples_leaf = 5;\n",
    "* max_depth = 10;\n",
    "* random_state = 42."
   ]
  },
  {
   "cell_type": "code",
   "execution_count": 46,
   "id": "e708e3fe",
   "metadata": {},
   "outputs": [
    {
     "name": "stdout",
     "output_type": "stream",
     "text": [
      "Тестовая выборка:\n",
      "              precision    recall  f1-score   support\n",
      "\n",
      "           0      0.851     0.826     0.839      1790\n",
      "           1      0.805     0.833     0.819      1545\n",
      "\n",
      "    accuracy                          0.829      3335\n",
      "   macro avg      0.828     0.830     0.829      3335\n",
      "weighted avg      0.830     0.829     0.830      3335\n",
      "\n"
     ]
    }
   ],
   "source": [
    "rf = ensemble.RandomForestClassifier(\n",
    "    n_estimators=100, \n",
    "    criterion='gini', \n",
    "    min_samples_leaf=5, \n",
    "    max_depth=10, \n",
    "    random_state=42\n",
    ")\n",
    "rf.fit(X_train, y_train)\n",
    "\n",
    "y_test_pred = rf.predict(X_test)\n",
    "print('Тестовая выборка:\\n{}'.format(\n",
    "    metrics.classification_report(y_test, y_test_pred, digits=3)))"
   ]
  },
  {
   "cell_type": "markdown",
   "id": "71d7b13d",
   "metadata": {},
   "source": [
    "Используем для классификации градиентный бустинг и сравним качество со случайным лесом."
   ]
  },
  {
   "cell_type": "code",
   "execution_count": 47,
   "id": "99f12dfe",
   "metadata": {},
   "outputs": [
    {
     "name": "stdout",
     "output_type": "stream",
     "text": [
      "Тестовая выборка:\n",
      "              precision    recall  f1-score   support\n",
      "\n",
      "           0      0.850     0.816     0.833      1790\n",
      "           1      0.796     0.833     0.814      1545\n",
      "\n",
      "    accuracy                          0.824      3335\n",
      "   macro avg      0.823     0.825     0.824      3335\n",
      "weighted avg      0.825     0.824     0.824      3335\n",
      "\n"
     ]
    }
   ],
   "source": [
    "gboost = ensemble.GradientBoostingClassifier(\n",
    "    learning_rate=0.05, \n",
    "    n_estimators=300, \n",
    "    min_samples_leaf=5,\n",
    "    max_depth=5, \n",
    "    random_state=42\n",
    ")\n",
    "gboost.fit(X_train, y_train)\n",
    "\n",
    "y_test_pred = gboost.predict(X_test)\n",
    "print('Тестовая выборка:\\n{}'.format(\n",
    "    metrics.classification_report(y_test, y_test_pred, digits=3)))"
   ]
  },
  {
   "cell_type": "markdown",
   "id": "b08718ae",
   "metadata": {},
   "source": [
    "Объединим использованные нами алгоритмы с помощью стекинга."
   ]
  },
  {
   "cell_type": "code",
   "execution_count": 48,
   "id": "0bd42fb0",
   "metadata": {},
   "outputs": [
    {
     "name": "stdout",
     "output_type": "stream",
     "text": [
      "Тестовая выборка:\n",
      "              precision    recall  f1-score   support\n",
      "\n",
      "           0      0.835     0.839     0.837      1790\n",
      "           1      0.812     0.808     0.810      1545\n",
      "\n",
      "    accuracy                          0.825      3335\n",
      "   macro avg      0.824     0.823     0.824      3335\n",
      "weighted avg      0.825     0.825     0.825      3335\n",
      "\n"
     ]
    }
   ],
   "source": [
    "dtree = tree.DecisionTreeClassifier(\n",
    "    criterion='entropy', max_depth=7, min_samples_split=10, random_state=42)\n",
    "\n",
    "logregr = linear_model.LogisticRegression(\n",
    "    solver='sag', \n",
    "    max_iter=1000, \n",
    "    random_state=42\n",
    ")\n",
    "\n",
    "gboost = ensemble.GradientBoostingClassifier(\n",
    "    learning_rate=0.05, \n",
    "    n_estimators=300, \n",
    "    min_samples_leaf=5, \n",
    "    max_depth=5, \n",
    "    random_state=42\n",
    ")\n",
    "\n",
    "estimators = [\n",
    "    ('dtree', dtree), ('logregr', logregr), ('gboost', gboost)\n",
    "]\n",
    "\n",
    "stacked = ensemble.StackingClassifier(estimators=estimators)\n",
    "stacked.fit(X_train, y_train)\n",
    "\n",
    "y_test_pred = stacked.predict(X_test)\n",
    "print('Тестовая выборка:\\n{}'.format(\n",
    "    metrics.classification_report(y_test, y_test_pred, digits=3)))"
   ]
  },
  {
   "cell_type": "markdown",
   "id": "6247a5fb",
   "metadata": {},
   "source": [
    "Оценим, какие признаки демонстрируют наибольшую важность в модели градиентного бустинга."
   ]
  },
  {
   "cell_type": "code",
   "execution_count": 49,
   "id": "35de769c",
   "metadata": {},
   "outputs": [
    {
     "data": {
      "text/plain": [
       "[('duration', 0.5141398765213635),\n",
       " ('poutcome_success', 0.11898751720957368),\n",
       " ('contact_unknown', 0.0789475918543471),\n",
       " ('balance', 0.06192304113186241),\n",
       " ('pdays', 0.05550469309953302),\n",
       " ('housing_BIN', 0.05046434132523256),\n",
       " ('month_mar', 0.02702500983408186),\n",
       " ('month_oct', 0.019516071222873136),\n",
       " ('campaign', 0.01800756251961815),\n",
       " ('month_sep', 0.015612600809316535),\n",
       " ('month_may', 0.014682145372350582),\n",
       " ('loan_BIN', 0.012714043147002965),\n",
       " ('previous', 0.0075014802576747535),\n",
       " ('poutcome_unknown', 0.002975949546958417),\n",
       " ('contact_cellular', 0.0019980761482112815)]"
      ]
     },
     "execution_count": 49,
     "metadata": {},
     "output_type": "execute_result"
    }
   ],
   "source": [
    "gboost = ensemble.GradientBoostingClassifier(\n",
    "    learning_rate=0.05, \n",
    "    n_estimators=300, \n",
    "    min_samples_leaf=5, \n",
    "    max_depth=5, \n",
    "    random_state=42\n",
    ")\n",
    "gboost.fit(X_train, y_train)\n",
    "sorted(list(zip(selected_cols, gboost.feature_importances_)), \n",
    "       key=lambda x: x[1], reverse=True)"
   ]
  },
  {
   "cell_type": "markdown",
   "id": "96974dda",
   "metadata": {},
   "source": [
    "Реализуем оптимизацию гиперпараметров с помощью Optuna (для случайного леса)."
   ]
  },
  {
   "cell_type": "code",
   "execution_count": 50,
   "id": "c48e29e9",
   "metadata": {},
   "outputs": [
    {
     "name": "stderr",
     "output_type": "stream",
     "text": [
      "\u001b[32m[I 2022-07-13 13:30:10,476]\u001b[0m A new study created in memory with name: RF_Classifier\u001b[0m\n",
      "\u001b[32m[I 2022-07-13 13:30:17,134]\u001b[0m Trial 0 finished with value: 0.8165391953941695 and parameters: {'n_estimators': 137, 'max_depth': 29, 'min_samples_leaf': 8}. Best is trial 0 with value: 0.8165391953941695.\u001b[0m\n",
      "\u001b[32m[I 2022-07-13 13:30:25,931]\u001b[0m Trial 1 finished with value: 0.8220911655204922 and parameters: {'n_estimators': 160, 'max_depth': 13, 'min_samples_leaf': 3}. Best is trial 1 with value: 0.8220911655204922.\u001b[0m\n",
      "\u001b[32m[I 2022-07-13 13:30:32,447]\u001b[0m Trial 2 finished with value: 0.8194932943346913 and parameters: {'n_estimators': 105, 'max_depth': 28, 'min_samples_leaf': 7}. Best is trial 1 with value: 0.8220911655204922.\u001b[0m\n",
      "\u001b[32m[I 2022-07-13 13:30:40,150]\u001b[0m Trial 3 finished with value: 0.8147301545392651 and parameters: {'n_estimators': 171, 'max_depth': 10, 'min_samples_leaf': 10}. Best is trial 1 with value: 0.8220911655204922.\u001b[0m\n",
      "\u001b[32m[I 2022-07-13 13:30:50,227]\u001b[0m Trial 4 finished with value: 0.8208576303425297 and parameters: {'n_estimators': 184, 'max_depth': 14, 'min_samples_leaf': 3}. Best is trial 1 with value: 0.8220911655204922.\u001b[0m\n",
      "\u001b[32m[I 2022-07-13 13:30:56,031]\u001b[0m Trial 5 finished with value: 0.8182994529695353 and parameters: {'n_estimators': 118, 'max_depth': 16, 'min_samples_leaf': 6}. Best is trial 1 with value: 0.8220911655204922.\u001b[0m\n",
      "\u001b[32m[I 2022-07-13 13:31:03,046]\u001b[0m Trial 6 finished with value: 0.8190183471949002 and parameters: {'n_estimators': 143, 'max_depth': 16, 'min_samples_leaf': 7}. Best is trial 1 with value: 0.8220911655204922.\u001b[0m\n",
      "\u001b[32m[I 2022-07-13 13:31:08,867]\u001b[0m Trial 7 finished with value: 0.8220130838398733 and parameters: {'n_estimators': 114, 'max_depth': 16, 'min_samples_leaf': 5}. Best is trial 1 with value: 0.8220911655204922.\u001b[0m\n",
      "\u001b[32m[I 2022-07-13 13:31:17,376]\u001b[0m Trial 8 finished with value: 0.8203027285192892 and parameters: {'n_estimators': 146, 'max_depth': 26, 'min_samples_leaf': 3}. Best is trial 1 with value: 0.8220911655204922.\u001b[0m\n",
      "\u001b[32m[I 2022-07-13 13:31:26,105]\u001b[0m Trial 9 finished with value: 0.8171587481304037 and parameters: {'n_estimators': 151, 'max_depth': 22, 'min_samples_leaf': 2}. Best is trial 1 with value: 0.8220911655204922.\u001b[0m\n"
     ]
    },
    {
     "name": "stdout",
     "output_type": "stream",
     "text": [
      "Лучшие параметры:\n",
      "{'n_estimators': 160, 'max_depth': 13, 'min_samples_leaf': 3}\n"
     ]
    }
   ],
   "source": [
    "def obj_func(trial):\n",
    "    # пространство гиперпараметров\n",
    "    n_estimators = trial.suggest_int('n_estimators', 100, 200, 1)\n",
    "    max_depth = trial.suggest_int('max_depth', 10, 30, 1)\n",
    "    min_samples_leaf = trial.suggest_int('min_samples_leaf', 2, 10, 1)\n",
    "\n",
    "    # модель\n",
    "    model = ensemble.RandomForestClassifier(\n",
    "        n_estimators=n_estimators,\n",
    "        max_depth=max_depth,\n",
    "        min_samples_leaf=min_samples_leaf,\n",
    "        random_state=42)\n",
    "    \n",
    "    # обучаем модель\n",
    "    model.fit(X_train, y_train)\n",
    "    score = cross_val_score(\n",
    "        model, X_train, y_train, cv=5, scoring='f1').mean()\n",
    "    \n",
    "    return score\n",
    "\n",
    "# Поиск оптимальных гиперпараметров\n",
    "sampler = optuna.samplers.TPESampler(seed=42)\n",
    "study = optuna.create_study(\n",
    "    sampler=sampler, study_name='RF_Classifier', direction='maximize')\n",
    "study.optimize(obj_func, n_trials=10)\n",
    "print(f'Лучшие параметры:\\n{study.best_params}')"
   ]
  },
  {
   "cell_type": "code",
   "execution_count": 51,
   "id": "c2216645",
   "metadata": {},
   "outputs": [
    {
     "name": "stdout",
     "output_type": "stream",
     "text": [
      "Тестовая выборка:\n",
      "              precision    recall  f1-score   support\n",
      "\n",
      "           0      0.854     0.820     0.837      1790\n",
      "           1      0.801     0.838     0.819      1545\n",
      "\n",
      "    accuracy                          0.828      3335\n",
      "   macro avg      0.828     0.829     0.828      3335\n",
      "weighted avg      0.830     0.828     0.829      3335\n",
      "\n"
     ]
    }
   ],
   "source": [
    "# Модель с лучшими параметрами  \n",
    "rf_best = ensemble.RandomForestClassifier(\n",
    "    **study.best_params, \n",
    "    random_state=42\n",
    ")\n",
    "rf_best.fit(X_train, y_train)\n",
    "y_test_pred = rf_best.predict(X_test)\n",
    "print('Тестовая выборка:\\n{}'.format(\n",
    "    metrics.classification_report(y_test, y_test_pred, digits=3)))"
   ]
  },
  {
   "cell_type": "markdown",
   "id": "f0dbcbc3",
   "metadata": {},
   "source": [
    "#### *Общий вывод*\n",
    "\n",
    "* Проведена предобработка признаков. Простыми способами (медиана, мода) заменены пропущенные значения. Методом Тьюкки удалены выбросы баланса.\n",
    "* Проведен разведывательный анализ данных в контексте влияния на целевой признак.\n",
    "* Проведено кодирование признаков и масштабирование значений. Для соответствия ответам на обучающей платформе не соблюдается порядковое кодирование возрастных групп - фактически они маркируются как несвязанные зависимостью классы (Label Encoder). Не проводилась трансформация признаков к нормальному распределению.\n",
    "* На основе корреляции Кендалла дана оценка влияния признаков на целевой признак (выбрана из-за очевидного отсутствия связи с целевым признаком по монотонной функции, а также ввиду распределений признаков, отличных от нормальных). С помощью ANOVA F-value (f_classif) для построения моделей отобраны 15 наиболее значимых признаков, отобор в целом соответствует результатам по корреляции Кендалла. Попытка отобрать признаки по взаимной информации (mutual_info_classif, не отображено в данном ноутбуке) показала большое несоответствие с оценкой значимости по корреляции Кендалла.\n",
    "* Построены простые базовые модели - логистическая регрессия и решающее дерево.\n",
    "* Построены ансамблевые модели - случайный лес, градиентный бустинг на решающих деревьх, стекинг из деревьев, регрессии и бустинга.\n",
    "* Реализованы примеры подбора гиперпараметров - поиск по сетке, Tree-tructured Parzen estimator (в Optuna).\n",
    "* На каждом этапе моделирования оценивались метрики качества классификации. Ансамблевые решения закономерно показывают лучшие значения. Какая либо качественная разница между ансамблевыми моделями на данном датасете не прослеживается. Подбор гиперпараметров модели случайного леса незначительно, на десятые доли процента, улучшил результат.\n",
    "\n",
    "Задача решена на базовом уровне в соответствии с минимумом требований, необходимых для сдачи проекта. Безусловно остается потенциал по возможному улучшению метрик при более тщательной и творческой обработке признаков, транформации данных, экспериментировании с различными моделями."
   ]
  }
 ],
 "metadata": {
  "kernelspec": {
   "display_name": "Python 3 (ipykernel)",
   "language": "python",
   "name": "python3"
  },
  "language_info": {
   "codemirror_mode": {
    "name": "ipython",
    "version": 3
   },
   "file_extension": ".py",
   "mimetype": "text/x-python",
   "name": "python",
   "nbconvert_exporter": "python",
   "pygments_lexer": "ipython3",
   "version": "3.8.13"
  }
 },
 "nbformat": 4,
 "nbformat_minor": 5
}
